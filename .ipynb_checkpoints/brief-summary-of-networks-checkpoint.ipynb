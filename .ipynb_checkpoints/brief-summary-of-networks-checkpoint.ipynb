{
 "cells": [
  {
   "cell_type": "markdown",
   "id": "ed2e8080",
   "metadata": {},
   "source": [
    "# A brief summary of *Networks*\n",
    "<br>\n",
    "<div style=\"opacity: 0.8; font-family: Consolas, Monaco, Lucida Console, Liberation Mono, DejaVu Sans Mono, Bitstream Vera Sans Mono, Courier New; font-size: 12px; font-style: italic;\">\n",
    "    ────────\n",
    "    for more from the author, visit\n",
    "    <a href=\"https://github.com/hazemanwer2000\">github.com/hazemanwer2000</a>.\n",
    "    ────────\n",
    "</div>"
   ]
  },
  {
   "cell_type": "markdown",
   "id": "4425d6fc",
   "metadata": {},
   "source": [
    "## Table of Contents\n",
    "* [](#)\n",
    "\n",
    "<hr>"
   ]
  },
  {
   "cell_type": "markdown",
   "id": "41ad2f32",
   "metadata": {},
   "source": [
    "## The OSI Model"
   ]
  },
  {
   "cell_type": "markdown",
   "id": "fc64085c",
   "metadata": {},
   "source": [
    "The *Open Systems Interconnect (OSI)* model is compromised of seven layers, where the many parts of a network reside at one, or more layers."
   ]
  },
  {
   "cell_type": "markdown",
   "id": "c698169c",
   "metadata": {},
   "source": [
    "| No. | Layer |\n",
    "| :---: | --- |\n",
    "| **7** | *Application* |\n",
    "| **6** | *Presentation* |\n",
    "| **5** | *Session* |\n",
    "| **4** | *Transport* |\n",
    "| **3** | *Network* |\n",
    "| **2** | *Data Link* |\n",
    "| **1** | *Physical* |"
   ]
  },
  {
   "cell_type": "markdown",
   "id": "92a8b954",
   "metadata": {},
   "source": [
    "### The Physical Layer"
   ]
  },
  {
   "cell_type": "markdown",
   "id": "6985e8aa",
   "metadata": {},
   "source": [
    "At the *physical* layer, any part that moves data from one system to another resides (e.g: copper cabling, fiber optics and radio waves).\n",
    "\n",
    "A *hub* is a multi-port repeater. When it receives a signal on one port, it floods all other ports with the same signal, hence it operates at the physical layer as well."
   ]
  },
  {
   "cell_type": "markdown",
   "id": "4993698f",
   "metadata": {},
   "source": [
    "### The Data Link Layer"
   ]
  },
  {
   "cell_type": "markdown",
   "id": "f52ec868",
   "metadata": {},
   "source": [
    "At the *data link layer*, the *Network Interface Card (NIC)* resides. Inside every NIC, there's ROM memory with special firmware, containing a unique identifier called the *Media Access Control (MAC) Address*.\n",
    "\n",
    "A MAC address is compromised of six bytes, where the first three bytes denote the *Organizationally Unique Idenitifier (OUI)*, that is unique to every manufacturer of NICs. The second three bytes are commonly referred to as the *device identifier*."
   ]
  },
  {
   "cell_type": "markdown",
   "id": "1f581753",
   "metadata": {},
   "source": [
    "*Note:* The MAC address space is commonly referred to as *MAC-48*, as well as *EUI-48 (Extended Unique IDentifier)*.\n",
    "\n",
    "*Note:* Use the `ipconfig /all` command on Windows OS, to find out the MAC address of your NIC. On Linux OS, Type in `ip a` instead.\n",
    "\n",
    "*Note:* MAC addresses are also known as *physical addresses*."
   ]
  },
  {
   "cell_type": "markdown",
   "id": "a4384ab0",
   "metadata": {},
   "source": [
    "Every network transmits data in discrete chunks, called *frames*. A frame encapsulates information about the recipient's MAC Address, the sender's, the type of data encapsulated, and the data itself.\n",
    "\n",
    "A *Frame Check Sequence (FCS)*, of four bytes, is appended to each frame, and is computed using *Cyclic Redundancy Check (CRC)* math on the data. If the FCS recipient's calculated FCS matches the sender's, then the data is uncorrupted."
   ]
  },
  {
   "cell_type": "markdown",
   "id": "47f012c0",
   "metadata": {},
   "source": [
    "<img src=\"_jupyter/img/1_frame.png\" width=\"550\" />"
   ]
  },
  {
   "cell_type": "markdown",
   "id": "ff0271b4",
   "metadata": {},
   "source": [
    "*Note:* The exact structure of a frame, as well as the size of the data field, are dependent on the method of transmission, discussed later."
   ]
  },
  {
   "cell_type": "markdown",
   "id": "841c4aa3",
   "metadata": {},
   "source": [
    "When a hub repeats a frame from one NIC to all others, only the NIC with the recipient's MAC address accepts the frame, while all others drop it.\n",
    "\n",
    "A *switch*, unlike a hub, learns which ports are associated with which MAC addresses, and directs signals accordingly. Hence, switches operate at the data link layer."
   ]
  },
  {
   "cell_type": "markdown",
   "id": "dd8bc828",
   "metadata": {},
   "source": [
    "*Note:* The NIC's functionality is compromised of two sub-layers: *Logical Link Control (LLC)* and *Media Access Control (MAC)*. The MAC sub-layer creates and reads frames. It performs checks (e.g: CRC) on the data in the frame. The LLC sub-layer communicates with the OS, via a device driver.\n",
    "\n",
    "*Note:* Some people consider the NIC to reside at both, the physical and data link layers."
   ]
  },
  {
   "cell_type": "markdown",
   "id": "35dcb8e5",
   "metadata": {},
   "source": [
    "### The Network Layer"
   ]
  },
  {
   "cell_type": "markdown",
   "id": "6a721916",
   "metadata": {},
   "source": [
    "At the *network layer*, *logical addressing* is used instead of physical addressing. In logical addressing, the hardware is ignored and instead, a software-assigned address is used.\n",
    "\n",
    "A *network protocol* has to create unique identifiers for each system. Most used, is the *Internet Protocol (IP)*, which assigns a unique IP address to every system on a network. Additionally, it enables the division of a network into *subnets*, using *subnet masks* which denote the *network portion* of an IP address.\n",
    "\n",
    "At the network layer, *packets* are sent and received, encapsulated within the data field of a frame. The source IP address, and the destination IP address are placed in the header, and data follows."
   ]
  },
  {
   "cell_type": "markdown",
   "id": "3085c45e",
   "metadata": {},
   "source": [
    "<img src=\"_jupyter/img/1_packet.png\" width=\"400\" />"
   ]
  },
  {
   "cell_type": "markdown",
   "id": "adb149c9",
   "metadata": {},
   "source": [
    "Every system is configured with an IP address, a subnet mask, and a *default gateway* IP address:\n",
    "\n",
    "* When a system wants to communicate with an IP address within its subnet, it sends a *broadcast*, as opposed to a *unicast*, with the destination MAC address `FFFF:FFFF:FFFF`, asking for the MAC address of the IP address in question. The system with the matching IP address responds with its MAC address, and communication can proceed henceforth.\n",
    "\n",
    "* When the system wants to communicate with an IP address outside of its subnet, it first identifies the MAC address of its default gateway, then sends a frame with the destination MAC address of the default gateway, and a packet destination IP address of the IP address in question. \n",
    "\n",
    "* The default gateway, a *router*, routes packets from one subnet to another. A packet, passing through a router, remains intact. However, assuming two subnets only, the sender MAC address becomes the router, and the receiver MAC address becomes the MAC address of the system with the destination IP address."
   ]
  },
  {
   "cell_type": "markdown",
   "id": "f1e9ead9",
   "metadata": {},
   "source": [
    "*Note:* In a hypothetical scenario, a frame is received by a system. The frame is received with a matching MAC address. It is accepted by the NIC, and passed to the OS as a packet. The network stack in the OS checks the destination IP address. It is not a match, and is dropped."
   ]
  },
  {
   "cell_type": "markdown",
   "id": "3f273b31",
   "metadata": {},
   "source": [
    "### The Transport Layer"
   ]
  },
  {
   "cell_type": "markdown",
   "id": "18bba836",
   "metadata": {},
   "source": [
    "At the *transport layer*, a protocol, e.g: *Transmission Control Protocol (TCP)*, built on-top of a network protocol, e.g: TCP is built on-top of IP, is responsible for the segmentation and re-assembly of large chunks of data. Hence, data encapsulated within a packet, is called a *segment*.\n",
    "\n",
    "*Note:* For example, TCP adds a sequence number in its segment header.\n",
    "\n",
    "*Note:* TCP has a software port number in its segment header. The OS uses this port number to route data encapsulated within segments to running processes, each associated with one or more port numbers.\n",
    "\n",
    "*Note:* TCP is a connection-oriented protocol. It establishes a connection with the system, before sending data. UDP, also built on-top of IP, is a connection-less protocol."
   ]
  },
  {
   "cell_type": "markdown",
   "id": "e915afe1",
   "metadata": {},
   "source": [
    "### Other Layers"
   ]
  },
  {
   "cell_type": "markdown",
   "id": "75c10446",
   "metadata": {},
   "source": [
    "The *session* layer in an OS manages sessions of communication with different systems, typically associated with *connection-oriented* protocols.\n",
    "\n",
    "The *presentation* layer in an OS is concerned with the translation of data from lower layers to upper layers (e.g: encryption protocols).\n",
    "\n",
    "The *application* layer in an OS refers to the *Application Programming Interfaces (APIs)* that programmers can utilize to make use of the built-in network stack."
   ]
  }
 ],
 "metadata": {
  "kernelspec": {
   "display_name": "Python 3 (ipykernel)",
   "language": "python",
   "name": "python3"
  },
  "language_info": {
   "codemirror_mode": {
    "name": "ipython",
    "version": 3
   },
   "file_extension": ".py",
   "mimetype": "text/x-python",
   "name": "python",
   "nbconvert_exporter": "python",
   "pygments_lexer": "ipython3",
   "version": "3.8.10"
  }
 },
 "nbformat": 4,
 "nbformat_minor": 5
}
