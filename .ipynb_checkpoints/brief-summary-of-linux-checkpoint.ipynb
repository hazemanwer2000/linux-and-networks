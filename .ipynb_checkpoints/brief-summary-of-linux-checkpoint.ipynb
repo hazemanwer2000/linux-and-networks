{
 "cells": [
  {
   "cell_type": "markdown",
   "id": "ed6f142c",
   "metadata": {},
   "source": [
    "# A brief summary of *Linux*\n",
    "<br>\n",
    "<div style=\"opacity: 0.8; font-family: Consolas, Monaco, Lucida Console, Liberation Mono, DejaVu Sans Mono, Bitstream Vera Sans Mono, Courier New; font-size: 12px; font-style: italic;\">\n",
    "    ────────\n",
    "    for more from the author, visit\n",
    "    <a href=\"https://github.com/hazemanwer2000\">github.com/hazemanwer2000</a>.\n",
    "    ────────\n",
    "</div>"
   ]
  },
  {
   "cell_type": "markdown",
   "id": "0d460fa1",
   "metadata": {},
   "source": [
    "## Table of Contents\n",
    "* [](#)\n",
    "\n",
    "<hr>"
   ]
  },
  {
   "cell_type": "markdown",
   "id": "5d578484",
   "metadata": {},
   "source": [
    "## *Bash* Shell <a class=\"anchor\" id=\"\"></a>"
   ]
  },
  {
   "cell_type": "markdown",
   "id": "71d3d81c",
   "metadata": {},
   "source": [
    "In most Linux systems, the default shell is *bash*."
   ]
  },
  {
   "cell_type": "markdown",
   "id": "6837c4c3",
   "metadata": {},
   "source": [
    "### The Basics"
   ]
  },
  {
   "cell_type": "markdown",
   "id": "8c77311f",
   "metadata": {},
   "source": [
    "#### Commands"
   ]
  },
  {
   "cell_type": "markdown",
   "id": "72d9d407",
   "metadata": {},
   "source": [
    "A shell command may be one of five types.\n",
    "\n",
    "1. An *alias*, to another command.\n",
    "2. A reserved word, such as `while`, `case`, and similar programming constructs.\n",
    "3. A *function*, an alias to a set of commands to be executed together, possibly accepting arguments.\n",
    "4. A shell built-in, a command built into the shell itself.\n",
    "5. A file-system command, stored and executed from the file system.\n",
    "\n",
    "*Note:* The shell checks for commands in the above order, which allows for an alias, or a function and a command to match in naming.\n",
    "\n",
    "*Note:* A file-system command is searched for in colon-separated directories, left-to-right, defined in the `$PATH` environment variable, discussed later.\n",
    "\n",
    "*Note:* The exit status of the last executed command may be accessed using a special variable, `$?`, discussed later. For piped commands, discussed later, use the shell array variable `$PIPESTATUS`."
   ]
  },
  {
   "cell_type": "markdown",
   "id": "e60d2d8e",
   "metadata": {},
   "source": [
    "To check the type of a command,"
   ]
  },
  {
   "cell_type": "code",
   "execution_count": null,
   "id": "7e8e7e03",
   "metadata": {},
   "outputs": [],
   "source": [
    "type -a command-name          # 'type' is a shell built-in"
   ]
  },
  {
   "cell_type": "markdown",
   "id": "022d4a4e",
   "metadata": {},
   "source": [
    "To define a new alias,"
   ]
  },
  {
   "cell_type": "code",
   "execution_count": null,
   "id": "b6f5c820",
   "metadata": {},
   "outputs": [],
   "source": [
    "alias name=\"command with options and arguments\""
   ]
  },
  {
   "cell_type": "markdown",
   "id": "c0b86c9b",
   "metadata": {},
   "source": [
    "To get help for the shell built-in,"
   ]
  },
  {
   "cell_type": "code",
   "execution_count": null,
   "id": "cc1ac36e",
   "metadata": {},
   "outputs": [],
   "source": [
    "help command-name             # 'help' is a shell-built-in "
   ]
  },
  {
   "cell_type": "markdown",
   "id": "5ef38b18",
   "metadata": {},
   "source": [
    "To get help on a Linux file-system command, consult the offline manual pages,"
   ]
  },
  {
   "cell_type": "code",
   "execution_count": null,
   "id": "15253ac3",
   "metadata": {},
   "outputs": [],
   "source": [
    "man -f command-name                       # Returns the section number a command is described in"
   ]
  },
  {
   "cell_type": "code",
   "execution_count": null,
   "id": "92e50889",
   "metadata": {},
   "outputs": [],
   "source": [
    "man section-number command-name           # Shows the description of a command in a specific section"
   ]
  },
  {
   "cell_type": "markdown",
   "id": "78284b1c",
   "metadata": {},
   "source": [
    "#### Variables"
   ]
  },
  {
   "cell_type": "markdown",
   "id": "a727377a",
   "metadata": {},
   "source": [
    "Every shell session has *variables* associated with it, that store useful information. A subset of those are exported to any shells opened from the current shell, called *environment variables*."
   ]
  },
  {
   "cell_type": "markdown",
   "id": "b44beeb6",
   "metadata": {},
   "source": [
    "*Note:* Similarly, defined functions may be exported to any shells opened from the current shell, discussed later."
   ]
  },
  {
   "cell_type": "markdown",
   "id": "0661c4da",
   "metadata": {},
   "source": [
    "#### Scripts"
   ]
  },
  {
   "cell_type": "markdown",
   "id": "1556dfbc",
   "metadata": {},
   "source": [
    "A *script* is a file that lists a series of commands, line by line, to be executed.\n",
    "\n",
    "Different script files are executed, by default, at different stages.\n",
    "\n",
    "| *Path* | *Description* |\n",
    "| :-- | :-- |\n",
    "| `/etc/profile` | Executed for every new login shell, for all users.\n",
    "| `~/.bash_profile` | Executed for every new login shell, for the corresponding user.\n",
    "| `~/.bash_logout` | Executed for every exit from a login shell, for the corresponding user.\n",
    "| ㅤ |\n",
    "| `/etc/bashrc` | Executed for every new shell, for all users.\n",
    "| `~/.bashrc` | Executed for every new shell, for the corresponding user."
   ]
  },
  {
   "cell_type": "markdown",
   "id": "f095b1a5",
   "metadata": {},
   "source": [
    "*Note:* A *login shell* is a shell that prompts a user for login."
   ]
  },
  {
   "cell_type": "markdown",
   "id": "d1a8ca3e",
   "metadata": {},
   "source": [
    "#### *Redirection*"
   ]
  },
  {
   "cell_type": "markdown",
   "id": "d07029fa",
   "metadata": {},
   "source": [
    "Every executing command has a standard output *(stdout)*, input *(stdin)* and error *(stderr)* associated with. By default, *stdin* is the keyboard, and *stdout(-err)* is the screen.\n",
    "\n",
    "The shell allows for the *redirection* of the *stdout*, *stdin* and *stderr*, allowing, for example, *stdout* of one command to be the *stdin* of another.\n",
    "\n",
    "| *Syntax* | *Description* |\n",
    "| :-- | :-- |\n",
    "| `cmd1 \\| cmd2` | Redirects *stdout* of `cmd1` to *stdin* of `cmd2`. |\n",
    "| ㅤ |\n",
    "| `cmd < file` | Redirects the contents of `file` to *stdin* of `cmd`. |\n",
    "| ㅤ |\n",
    "| `cmd > file` | Redirects the *stdout* of `cmd` to `file`. If it exists, file is overwritten.\n",
    "| `cmd >> file` | Redirects the *stdout* of `cmd` to `file`. If it exists, file is appended to.\n",
    "| ㅤ |\n",
    "| `cmd 2> file` | Redirects the *stderr* of `cmd` to `file`. If it exists, file is overwritten.\n",
    "| `cmd &> file` | Redirects the *stdout* and *stderr* of `cmd` to `file`. If it exists, file is overwritten."
   ]
  },
  {
   "cell_type": "markdown",
   "id": "a4431b82",
   "metadata": {},
   "source": [
    "#### *Expansion*"
   ]
  },
  {
   "cell_type": "markdown",
   "id": "9147af0f",
   "metadata": {},
   "source": [
    "Before a command line is interpreted for execution, the shell performs different types of *expansions*."
   ]
  },
  {
   "cell_type": "markdown",
   "id": "0eae0b8f",
   "metadata": {},
   "source": [
    "| *Text* | *Expansion* |\n",
    "| :-- | :-- |\n",
    "| `$PATH` or `${PATH}` | The contents of the variable (e.g: `\\bin:\\usr\\bin`). |\n",
    "| `$(echo some text)` | The output of the command (e.g: `some text`). |\n",
    "| `$[2020 - 1957]` | The result of the arithmetic expression (e.g: `63`). |\n",
    "| ㅤ |\n",
    "| `~` | The path of the home directory of the current user.\n",
    "| `*.txt` | All files, within the current working directory, with a `.txt` extension.\n",
    "| `{1,2,3}.txt` | Expands into `1.txt 2.txt 3.txt`."
   ]
  },
  {
   "cell_type": "markdown",
   "id": "af3c1d24",
   "metadata": {},
   "source": [
    "*Note:* Similar to `*`, `?` matches any character, and `[...]` matches a range of characters (e.g: `[a-zA-Z0-9]`, `[abc123]`). \n",
    "\n",
    "*Note:* `{1,2,3}` is synonymous with `{1..3}`, and `{a,b,c}` is synonymous with `{a..c}`.\n",
    "\n",
    "*Note:* Expansions occur in the following order: brace expansion, tilde expansion, variable expansion, command substitution, arithmetic expansion, and filename expansion."
   ]
  },
  {
   "cell_type": "markdown",
   "id": "95f9b8dc",
   "metadata": {},
   "source": [
    "#### Other Tricks"
   ]
  },
  {
   "cell_type": "markdown",
   "id": "0d944bba",
   "metadata": {},
   "source": [
    "1. Commands may be separated on a single command line, using `;`."
   ]
  },
  {
   "cell_type": "code",
   "execution_count": null,
   "id": "2d25d161",
   "metadata": {},
   "outputs": [],
   "source": [
    "command-name options arguments; echo $?            # Executes a command, then prints exit status"
   ]
  },
  {
   "cell_type": "markdown",
   "id": "8ea22b09",
   "metadata": {},
   "source": [
    "2. Opening a `\"` without closing it, allows for the entry of multiple lines."
   ]
  },
  {
   "cell_type": "code",
   "execution_count": null,
   "id": "952b2644",
   "metadata": {},
   "outputs": [],
   "source": [
    "command-name -option \"\n",
    "    Multi-Line\n",
    "    Argument\n",
    "\""
   ]
  },
  {
   "cell_type": "markdown",
   "id": "faf3b58e",
   "metadata": {},
   "source": [
    "### Scripting"
   ]
  },
  {
   "cell_type": "markdown",
   "id": "9a7e4a77",
   "metadata": {},
   "source": [
    "Every script begins with a *shebang*, denoted by `#!`, that tells the OS the path of the interpreter to execute the script."
   ]
  },
  {
   "cell_type": "code",
   "execution_count": null,
   "id": "1c75be91",
   "metadata": {},
   "outputs": [],
   "source": [
    "#!/bin/bash"
   ]
  },
  {
   "cell_type": "markdown",
   "id": "77e7f1ea",
   "metadata": {},
   "source": [
    "*Note:* The use of a shebang allows the execution of a script file, as a file-system command, instead of having to pass it to the interpreter explicitly, as `bash script-name`. This is common to all interpreted programming languages (e.g: Python)."
   ]
  },
  {
   "cell_type": "markdown",
   "id": "51f5501c",
   "metadata": {},
   "source": [
    "A comment is denoted by a `#`."
   ]
  },
  {
   "cell_type": "code",
   "execution_count": null,
   "id": "d309ca9d",
   "metadata": {},
   "outputs": [],
   "source": [
    "command -option argument        # This is a comment"
   ]
  },
  {
   "cell_type": "markdown",
   "id": "29bd5d8e",
   "metadata": {},
   "source": [
    "To execute commands within a script file in the current shell,"
   ]
  },
  {
   "cell_type": "code",
   "execution_count": null,
   "id": "5df33986",
   "metadata": {},
   "outputs": [],
   "source": [
    "source script-path              # 'source' is a shell built-in"
   ]
  },
  {
   "cell_type": "code",
   "execution_count": null,
   "id": "e8d0b926",
   "metadata": {},
   "outputs": [],
   "source": [
    ". script-path                   # '.' is a shortcut to 'source'"
   ]
  },
  {
   "cell_type": "markdown",
   "id": "05e44fe2",
   "metadata": {},
   "source": [
    "#### Working with Variables"
   ]
  },
  {
   "cell_type": "markdown",
   "id": "2c5fc5e7",
   "metadata": {},
   "source": [
    "A variable must consist only of alphanumeric characters and underscores, and may not begin with a digit."
   ]
  },
  {
   "cell_type": "code",
   "execution_count": null,
   "id": "565e3c3d",
   "metadata": {},
   "outputs": [],
   "source": [
    "var=\"Just a line of text.\""
   ]
  },
  {
   "cell_type": "markdown",
   "id": "6ab5d85a",
   "metadata": {},
   "source": [
    "*Note:* The expansion of any unset variable is an empty string."
   ]
  },
  {
   "cell_type": "markdown",
   "id": "33799643",
   "metadata": {},
   "source": [
    "To export a variable to new shells opened from the current shell,"
   ]
  },
  {
   "cell_type": "code",
   "execution_count": null,
   "id": "799b8a50",
   "metadata": {},
   "outputs": [],
   "source": [
    "export var                     # 'export' is a shell built-in"
   ]
  },
  {
   "cell_type": "markdown",
   "id": "a169f860",
   "metadata": {},
   "source": [
    "#### Working with Functions"
   ]
  },
  {
   "cell_type": "markdown",
   "id": "80c4c14e",
   "metadata": {},
   "source": [
    "A function is a type of a command."
   ]
  },
  {
   "cell_type": "code",
   "execution_count": null,
   "id": "d2009047",
   "metadata": {},
   "outputs": [],
   "source": [
    "function function-name {\n",
    "    command1\n",
    "    command2\n",
    "    ...\n",
    "    \n",
    "    return 0                  # Exit status\n",
    "}"
   ]
  },
  {
   "cell_type": "markdown",
   "id": "685617b4",
   "metadata": {},
   "source": [
    "Several special variables may be used within functions."
   ]
  },
  {
   "cell_type": "markdown",
   "id": "dcf5082f",
   "metadata": {},
   "source": [
    "| *Special Variable* | *Description* |\n",
    "| :-- | :-- |\n",
    "| `$1` | The first argument passed to a function.\n",
    "| `$#` | The number of arguments passed to a function.\n",
    "| `$@` | All arguments passed to a function, individually double-quoted.\n",
    "| `$*` | All arguments passed to a function, all double-quoted."
   ]
  },
  {
   "cell_type": "markdown",
   "id": "9f8282ee",
   "metadata": {},
   "source": [
    "To define a local variable within a function,"
   ]
  },
  {
   "cell_type": "code",
   "execution_count": null,
   "id": "b6f784ab",
   "metadata": {},
   "outputs": [],
   "source": [
    "function function-name {\n",
    "    local var                     # Overrides global variable 'var', if it exists\n",
    "    var=\"...\"\n",
    "}"
   ]
  },
  {
   "cell_type": "markdown",
   "id": "1cdf2b57",
   "metadata": {},
   "source": [
    "To export a function to new shells opened from the current shell,"
   ]
  },
  {
   "cell_type": "code",
   "execution_count": null,
   "id": "49a7cad7",
   "metadata": {},
   "outputs": [],
   "source": [
    "export -f function-name"
   ]
  },
  {
   "cell_type": "markdown",
   "id": "00997827",
   "metadata": {},
   "source": [
    "#### Working with `if`"
   ]
  },
  {
   "cell_type": "markdown",
   "id": "da65f563",
   "metadata": {},
   "source": [
    "`if` and related reserved keywords enable conditional execution of commands, based on the exit status of another command.\n",
    "* `0` evaluates to *true*.\n",
    "* Any other value evaluates to *false*."
   ]
  },
  {
   "cell_type": "code",
   "execution_count": null,
   "id": "ae6671b5",
   "metadata": {},
   "outputs": [],
   "source": [
    "if command; then\n",
    "    ...\n",
    "elif command; then\n",
    "    ...\n",
    "else\n",
    "    ...\n",
    "fi"
   ]
  },
  {
   "cell_type": "markdown",
   "id": "7938f307",
   "metadata": {},
   "source": [
    "The most commonly used command for conditional execution is `test`."
   ]
  },
  {
   "cell_type": "markdown",
   "id": "330f6145",
   "metadata": {},
   "source": [
    "| *Command* | *Evaluates to true if?* |\n",
    "| :-- | :-- |\n",
    "| `test -e file` | File exists.\n",
    "| `test -d file` | File is a directory.\n",
    "| `test -f file` | File is a regular file.\n",
    "| ㅤ |\n",
    "| `test string` | String is not empty.\n",
    "| `test string1 == string2` | Strings are matching.\n",
    "| `test string1 != string2` | Strings are non-matching.\n",
    "| ㅤ |\n",
    "| `test int1 -eq int2` | First integer is equal to second integer.\n",
    "| `test int1 -ne int2` | First integer is not equal to second integer.\n",
    "| `test int1 -lt int2` | First integer is less than second integer.\n",
    "| `test int1 -le int2` | First integer is less than or equal to second integer.\n",
    "| `test int1 -gt int2` | First integer is greater than second integer.\n",
    "| `test int1 -ge int2` | First integer is greater than or equal to second integer."
   ]
  },
  {
   "cell_type": "markdown",
   "id": "415a69bf",
   "metadata": {},
   "source": [
    "*Note:* `[ ... ]` is a more syntatically pleasing way of typing `test ...`.\n",
    "\n",
    "*Note:* `!` is a shell built-in operator that negates the exit status of a succeeding command."
   ]
  },
  {
   "cell_type": "markdown",
   "id": "2521892e",
   "metadata": {},
   "source": [
    "The shell built-in operator `[[ ... ]]` supports all that `[ ... ]` supports, and more."
   ]
  },
  {
   "cell_type": "markdown",
   "id": "5ab41e98",
   "metadata": {},
   "source": [
    "| *Command* | *Evaluates to true if?* |\n",
    "| :-- | :-- |\n",
    "| `[[ $STRING == *.txt ]]` | `$STRING` has a `.txt` extension.\n",
    "| `[[ $STRING =~ ^.+@.+\\.com$ ]]` | `$STRING` is an e-mail address."
   ]
  },
  {
   "cell_type": "markdown",
   "id": "fee7089f",
   "metadata": {},
   "source": [
    "Both `[ ... ]` and `[[ ... ]]` support shell built-in logical operators."
   ]
  },
  {
   "cell_type": "markdown",
   "id": "4da8648c",
   "metadata": {},
   "source": [
    "| *Operation* | `[ ... ]` | `[[ ... ]]`\n",
    "| :-- | :-- | :-- |\n",
    "| *AND* | `-a` | `&&`\n",
    "| *OR* | `-o` | `\\|\\|`"
   ]
  }
 ],
 "metadata": {
  "kernelspec": {
   "display_name": "Python 3 (ipykernel)",
   "language": "python",
   "name": "python3"
  },
  "language_info": {
   "codemirror_mode": {
    "name": "ipython",
    "version": 3
   },
   "file_extension": ".py",
   "mimetype": "text/x-python",
   "name": "python",
   "nbconvert_exporter": "python",
   "pygments_lexer": "ipython3",
   "version": "3.8.10"
  }
 },
 "nbformat": 4,
 "nbformat_minor": 5
}
