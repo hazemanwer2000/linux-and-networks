{
 "cells": [
  {
   "cell_type": "markdown",
   "id": "ed2e8080",
   "metadata": {},
   "source": [
    "# A brief summary of *Networks*\n",
    "<br>\n",
    "<div style=\"opacity: 0.8; font-family: Consolas, Monaco, Lucida Console, Liberation Mono, DejaVu Sans Mono, Bitstream Vera Sans Mono, Courier New; font-size: 12px; font-style: italic;\">\n",
    "    ────────\n",
    "    for more from the author, visit\n",
    "    <a href=\"https://github.com/hazemanwer2000\">github.com/hazemanwer2000</a>.\n",
    "    ────────\n",
    "</div>"
   ]
  },
  {
   "cell_type": "markdown",
   "id": "4425d6fc",
   "metadata": {},
   "source": [
    "## Table of Contents\n",
    "* [](#)\n",
    "\n",
    "<hr>"
   ]
  },
  {
   "cell_type": "markdown",
   "id": "41ad2f32",
   "metadata": {},
   "source": [
    "## The OSI Model"
   ]
  },
  {
   "cell_type": "markdown",
   "id": "fc64085c",
   "metadata": {},
   "source": [
    "The *Open Systems Interconnect (OSI)* model is compromised of seven layers, where the many parts of a network reside at one, or more layers."
   ]
  },
  {
   "cell_type": "markdown",
   "id": "c698169c",
   "metadata": {},
   "source": [
    "| No. | Layer |\n",
    "| :---: | --- |\n",
    "| **7** | *Application* |\n",
    "| **6** | *Presentation* |\n",
    "| **5** | *Session* |\n",
    "| **4** | *Transport* |\n",
    "| **3** | *Network* |\n",
    "| **2** | *Data Link* |\n",
    "| **1** | *Physical* |"
   ]
  },
  {
   "cell_type": "markdown",
   "id": "92a8b954",
   "metadata": {},
   "source": [
    "### The Physical Layer"
   ]
  },
  {
   "cell_type": "markdown",
   "id": "6985e8aa",
   "metadata": {},
   "source": [
    "At the *physical* layer, any part that moves data from one system to another resides (e.g: copper cabling, fiber optics and radio waves).\n",
    "\n",
    "A *hub* is a multi-port repeater. When it receives a signal on one port, it floods all other ports with the same signal, hence it operates at the physical layer as well."
   ]
  },
  {
   "cell_type": "markdown",
   "id": "4993698f",
   "metadata": {},
   "source": [
    "### The Data Link Layer"
   ]
  },
  {
   "cell_type": "markdown",
   "id": "f52ec868",
   "metadata": {},
   "source": [
    "At the *data link layer*, the *Network Interface Card (NIC)* resides. Inside every NIC, there's ROM memory with special firmware, containing a unique identifier called the *Media Access Control (MAC) Address*.\n",
    "\n",
    "A MAC address is compromised of six bytes, where the first three bytes denote the *Organizationally Unique Idenitifier (OUI)*, that is unique to every manufacturer of NICs. The second three bytes are commonly referred to as the *device identifier*."
   ]
  },
  {
   "cell_type": "markdown",
   "id": "1f581753",
   "metadata": {},
   "source": [
    "*Note:* The MAC address space is commonly referred to as *MAC-48*, as well as *EUI-48 (Extended Unique IDentifier)*.\n",
    "\n",
    "*Note:* Use the `ipconfig /all` command on Windows OS, to find out the MAC address of your NIC. On Linux OS, Type in `ip a` instead.\n",
    "\n",
    "*Note:* MAC addresses are also known as *physical addresses*."
   ]
  },
  {
   "cell_type": "markdown",
   "id": "a4384ab0",
   "metadata": {},
   "source": [
    "Every network transmits data in discrete chunks, called *frames*. A frame encapsulates information about the recipient's MAC Address, the sender's, the type of data encapsulated, and the data itself.\n",
    "\n",
    "A *Frame Check Sequence (FCS)*, of four bytes, is appended to each frame, and is computed using *Cyclic Redundancy Check (CRC)* math on the data. If the recipient's calculated FCS matches the sender's, then the data is uncorrupted."
   ]
  },
  {
   "cell_type": "markdown",
   "id": "47f012c0",
   "metadata": {},
   "source": [
    "<img src=\"jupyter/img/1_frame.png\" width=\"550\"/>"
   ]
  },
  {
   "cell_type": "markdown",
   "id": "ff0271b4",
   "metadata": {},
   "source": [
    "*Note:* The exact structure of a frame, as well as the size of the data field, are dependent on the type of network (e.g: Ethernet, etc).\n",
    "\n",
    "*Note:* A *Protocol Data Unit (PDU)* is the unit of exchange between communicating systems, at a specific layer. The frame is the PDU at the data link layer.\n",
    "\n",
    "*Note:* A preamble, consisting of eight bytes, the last byte called *start frame delimiter*, always precedes a frame. It gives a receiving NIC time to realize a frame is coming, and to know exactly where it starts."
   ]
  },
  {
   "cell_type": "markdown",
   "id": "841c4aa3",
   "metadata": {},
   "source": [
    "When a hub repeats a frame from one NIC to all others, only the NIC with the recipient's MAC address accepts the frame, while all others drop it.\n",
    "\n",
    "A *switch*, unlike a hub, learns which ports are associated with which MAC addresses, maintaining a *MAC address table* with a timeout period for each entry, and directs signals accordingly. Hence, switches operate at the data link layer."
   ]
  },
  {
   "cell_type": "markdown",
   "id": "dd8bc828",
   "metadata": {},
   "source": [
    "*Note:* The NIC's functionality is compromised of two sub-layers: *Media Access Control (MAC)* and *Logical Link Control (LLC)*. The MAC sub-layer creates and reads frames. It performs checks (e.g: CRC) on the data in the frame. The LLC sub-layer communicates with the OS, via a device driver.\n",
    "\n",
    "*Note:* Some people consider the NIC to reside at both, the physical and data link layers."
   ]
  },
  {
   "cell_type": "markdown",
   "id": "35dcb8e5",
   "metadata": {},
   "source": [
    "### The Network Layer"
   ]
  },
  {
   "cell_type": "markdown",
   "id": "6a721916",
   "metadata": {},
   "source": [
    "At the *network layer*, *logical addressing* is used instead of physical addressing. In logical addressing, the hardware is ignored and instead, a software-assigned address is used.\n",
    "\n",
    "A *network protocol* has to create unique identifiers for each system in the network. Most used, is the *Internet Protocol (IP)*, which assigns a unique IP address to every system on a network. Additionally, it enables the division of a network into *subnets*, using *subnet masks* which denote the *network portion* of an IP address.\n",
    "\n",
    "At the network layer, *packets* are sent and received, encapsulated within the data field of a frame. The source IP address, and the destination IP address are placed in the header, and data follows."
   ]
  },
  {
   "cell_type": "markdown",
   "id": "3085c45e",
   "metadata": {},
   "source": [
    "<img src=\"jupyter/img/1_packet.png\" width=\"400\"/>"
   ]
  },
  {
   "cell_type": "markdown",
   "id": "adb149c9",
   "metadata": {},
   "source": [
    "Every system is configured with an IP address, a subnet mask, and a *default gateway* IP address:\n",
    "\n",
    "* When a system wants to communicate with an IP address within its subnet, it sends a *broadcast*, as opposed to a *unicast*, with the destination MAC address `FFFF:FFFF:FFFF`, asking for the MAC address of the IP address in question. The system with the matching IP address responds with its MAC address, and communication can proceed henceforth.\n",
    "\n",
    "* When the system wants to communicate with an IP address outside of its subnet, it first identifies the MAC address of its default gateway, then sends a frame with the destination MAC address of the default gateway, and a packet destination IP address of the IP address in question. \n",
    "\n",
    "* The default gateway, a *router*, routes packets from one subnet to another. A packet, passing through a router, remains intact. However, assuming two subnets only, the sender MAC address becomes the router, and the receiver MAC address becomes the MAC address of the system with the destination IP address."
   ]
  },
  {
   "cell_type": "markdown",
   "id": "f1e9ead9",
   "metadata": {},
   "source": [
    "*Note:* In a hypothetical scenario, a frame is received by a system. The frame is received with a matching MAC address. It is accepted by the NIC, and passed to the OS as a packet. The network stack in the OS checks the destination IP address. It is not a match, and is dropped.\n",
    "\n",
    "*Note:* Dividing a network into subnets lowers the effects of broadcasts when querying for MAC addresses, since broadcasts affect only systems within the same subnet as the broadcasting system."
   ]
  },
  {
   "cell_type": "markdown",
   "id": "3f273b31",
   "metadata": {},
   "source": [
    "### The Transport Layer"
   ]
  },
  {
   "cell_type": "markdown",
   "id": "18bba836",
   "metadata": {},
   "source": [
    "At the *transport layer*, a protocol, e.g: *Transmission Control Protocol (TCP)*, built on-top of a network protocol, e.g: TCP is built on-top of IP, is responsible for the segmentation and re-assembly of large chunks of data. Hence, data encapsulated within a packet, is called a *segment*.\n",
    "\n",
    "*Note:* For example, TCP adds a sequence number in its segment header.\n",
    "\n",
    "*Note:* TCP has a software port number in its segment header. The OS uses this port number to route data encapsulated within segments to running processes, each associated with one or more port numbers.\n",
    "\n",
    "*Note:* TCP is a *connection-oriented* protocol. It establishes a connection with the system, before sending data. UDP, also built on-top of IP, is a *connection-less* protocol."
   ]
  },
  {
   "cell_type": "markdown",
   "id": "e915afe1",
   "metadata": {},
   "source": [
    "### Other Layers"
   ]
  },
  {
   "cell_type": "markdown",
   "id": "75c10446",
   "metadata": {},
   "source": [
    "The *session* layer in an OS manages sessions of communication with different systems, typically associated with connection-oriented protocols.\n",
    "\n",
    "The *presentation* layer in an OS is concerned with the translation of data from lower layers to upper layers (e.g: encryption protocols).\n",
    "\n",
    "The *application* layer in an OS refers to the *Application Programming Interfaces (APIs)* that programmers can utilize to make use of the built-in network stack."
   ]
  },
  {
   "cell_type": "markdown",
   "id": "65403214",
   "metadata": {},
   "source": [
    "## Topologies"
   ]
  },
  {
   "cell_type": "markdown",
   "id": "348c51ed",
   "metadata": {},
   "source": [
    "A *bus topology* network is where all systems are connected to a single cable. Terminators at both ends of the cable are required, to prevent signals from reflecting at the ends of the cable."
   ]
  },
  {
   "cell_type": "markdown",
   "id": "0809cc83",
   "metadata": {},
   "source": [
    "<img src=\"jupyter/img/2_bus.png\" width=\"470\"/>"
   ]
  },
  {
   "cell_type": "markdown",
   "id": "ed88b1b9",
   "metadata": {},
   "source": [
    "A *ring topology* is where each system is connected to the system before it, and the system after it. Frames are forwarded from one device to the next, in a unidirectional loop."
   ]
  },
  {
   "cell_type": "markdown",
   "id": "9631fb19",
   "metadata": {},
   "source": [
    "<img src=\"jupyter/img/2_ring.png\" width=\"300\"/>"
   ]
  },
  {
   "cell_type": "markdown",
   "id": "98a0da9f",
   "metadata": {},
   "source": [
    "A *star* topology is where each system is connected to a central networking device (e.g: switch). It has the added benefit of providing *fault tolerance*. That is, if one of the cables broke, all the other systems could still communicate."
   ]
  },
  {
   "cell_type": "markdown",
   "id": "6dbba5de",
   "metadata": {},
   "source": [
    "<img src=\"jupyter/img/2_star.png\" width=\"280\"/>"
   ]
  },
  {
   "cell_type": "markdown",
   "id": "776e2a4f",
   "metadata": {},
   "source": [
    "*Note:* A star topology is the most popular today."
   ]
  },
  {
   "cell_type": "markdown",
   "id": "e0123e9e",
   "metadata": {},
   "source": [
    "*Hybrid* topologies arose, that had differing *physical* and *logical* topologies:\n",
    "\n",
    "* A *star-ring* topology has the physical topology of a star, but logically, is still a ring.\n",
    "\n",
    "* Similarly, a *star-bus* topology has the physical topology of a star, but logically, is still a bus."
   ]
  },
  {
   "cell_type": "markdown",
   "id": "af8f6944",
   "metadata": {},
   "source": [
    "<img src=\"jupyter/img/2_star-ring.png\" width=\"330\"/>"
   ]
  },
  {
   "cell_type": "markdown",
   "id": "5d256806",
   "metadata": {},
   "source": [
    "<img src=\"jupyter/img/2_star-bus.png\" width=\"350\"/>"
   ]
  },
  {
   "cell_type": "markdown",
   "id": "7b7c1e38",
   "metadata": {},
   "source": [
    "*Note:* A hub connecting multiple systems is a network with a hybrid star-bus topology."
   ]
  },
  {
   "cell_type": "markdown",
   "id": "d26054b9",
   "metadata": {},
   "source": [
    "In wireless technology, systems usually connect in a *mesh topology*, where every system connects to every other system via two or more routes."
   ]
  },
  {
   "cell_type": "markdown",
   "id": "9eafa165",
   "metadata": {},
   "source": [
    "<img src=\"jupyter/img/2_mesh.png\" width=\"550\"/>"
   ]
  },
  {
   "cell_type": "markdown",
   "id": "08a4bcc3",
   "metadata": {},
   "source": [
    "## Cabling"
   ]
  },
  {
   "cell_type": "markdown",
   "id": "e8dff9eb",
   "metadata": {},
   "source": [
    "### Copper Cables"
   ]
  },
  {
   "cell_type": "markdown",
   "id": "6e1e7f23",
   "metadata": {},
   "source": [
    "#### Co-axial Cable"
   ]
  },
  {
   "cell_type": "markdown",
   "id": "2aee0066",
   "metadata": {},
   "source": [
    "*Co-axial cable* transmits data through a central wire, that is insulated and shielded to reduce *Electro-Magnetic Interference (EMI)* from the environment.\n",
    "\n",
    "Different types of connectors are used at the end of co-axial cables, most popular are the *F-type*, found in TV cable, and *BNC* connectors.\n",
    "\n",
    "The *Radio Guide (RG)* rating issues a standarized measure of a co-axial cable, on parameters such as the impedance of the cable, and its ability to reduce EMI (e.g: RG-59 and RG-6 are two popular ratings)."
   ]
  },
  {
   "cell_type": "markdown",
   "id": "5e3d251d",
   "metadata": {},
   "source": [
    "<img src=\"jupyter/img/2_co-axial.png\" width=\"350\"/>"
   ]
  },
  {
   "cell_type": "markdown",
   "id": "70572a71",
   "metadata": {},
   "source": [
    "*Note:* *Twinaxial* cable transmits data through two central copper wires. It is usually used as a substitute for short fiber connections. In such uses, it is commonly referred to as *direct attached cable (DAC)*."
   ]
  },
  {
   "cell_type": "markdown",
   "id": "b32bdb12",
   "metadata": {},
   "source": [
    "#### Twisted Pair"
   ]
  },
  {
   "cell_type": "markdown",
   "id": "d06c8924",
   "metadata": {},
   "source": [
    "*Twisted pair* cable involves one, or more twisted pairs of cables, bundled together into a common jacket. Each pair transmits and receives data.\n",
    "\n",
    "The more twists per unit length of cable, the less *crosstalk* there is, a specific type of EMI, occuring due to unwanted coupling between two signals flowing next to each other, in parallel.\n",
    "\n",
    "*Category (Cat)* rating measures the maximum frequency and bandwidth a twisted pair cable can handle (e.g: *Cat 5* is rated at *100 Mhz* and *100 Mbps*)."
   ]
  },
  {
   "cell_type": "markdown",
   "id": "afe64c53",
   "metadata": {},
   "source": [
    "*Note*: *Cat 5e* is rated at 100 Mhz, with a bandwidth of *1 Gbps*. This is due to *bandwidth-efficient encoding schemes*.\n",
    "\n",
    "*Note:* *Twisted pair* cable may be *shielded (STP)* or *unshielded (UTP)*, with STP cable handling higher bandwidths."
   ]
  },
  {
   "cell_type": "markdown",
   "id": "86139f0c",
   "metadata": {},
   "source": [
    "Landline telephones use *RJ-11* connectors, designed to support up to two twisted pairs. Today, wired networks use *8 position 8 contact (8P8C)* connectors, commonly referred to as *RJ-45* rather erroneously."
   ]
  },
  {
   "cell_type": "markdown",
   "id": "73481966",
   "metadata": {},
   "source": [
    "### Fiber-Optic Cable"
   ]
  },
  {
   "cell_type": "markdown",
   "id": "cf2c2be9",
   "metadata": {},
   "source": [
    "*Fiber-optic* cable transmits light rather than electricity, making it able to support high-EMI regions and long-distance transmissions.\n",
    "\n",
    "A fiber-optic cable has four components: the *core*, made of fiber glass, in which light is reflected, the *cladding* that reflects light down the core, the *buffer* material that gives the cable its strength, and the *insulating jacket*.\n",
    "\n",
    "A fiber-optic cable that uses lasers is known as *single-mode fiber (SMF)*, and that uses LEDs is known as *multi-mode fiber (MMF)*. SMF cable does not experience *modal distortion*, where signals sent at the same time do not arrive at the same time."
   ]
  },
  {
   "cell_type": "markdown",
   "id": "4e05e88d",
   "metadata": {},
   "source": [
    "<img src=\"jupyter/img/2_fiber.png\" width=\"275\"/>"
   ]
  },
  {
   "cell_type": "markdown",
   "id": "bbb498bc",
   "metadata": {},
   "source": [
    "*Note:* Connectors commonly employed with fiber-optic cable are *ST*, *SC*, *LC* and *MT-RJ*. *LC* and *MT-RJ* can connect up to two glass fibers per connector.\n",
    "\n",
    "*Note:* Along with connector types, there are *contact types* associated with each fiber optic cable. *Physical contacts (PCs)* replaced flat-surface contacts, with slightly spherical and highly polished surfaces. *Ultra-physical contacts (UPCs)* offered superior finish. *Angled-physical contacts (APCs)* added an 8-degree angle to the curved end, further reducing the signal loss, and reducing degradation due to repeated insertions.\n",
    "\n",
    "*Note:* Fiber-optic cable is standarized with *OM* and *OS* ratings, denoting multi-mode and single-mode fiber cable, respectively. For example, *OM3* withstands higher bandwidth than *OM1*. Each rating is color-coded for easy identification."
   ]
  },
  {
   "cell_type": "markdown",
   "id": "2c744fcb",
   "metadata": {},
   "source": [
    "## Ethernet Networks"
   ]
  },
  {
   "cell_type": "markdown",
   "id": "5a78af71",
   "metadata": {},
   "source": [
    "Standards, published by the *Institute of Electrical and Electronics Engineers (IEEE)*, define different types of networks, specifying all the details of all relevant constituents.\n",
    "\n",
    "*Ethernet* standards specify the requirements and limitations of different types of Ethernet networks, the most popular type of network today."
   ]
  },
  {
   "cell_type": "markdown",
   "id": "eac3dd9b",
   "metadata": {},
   "source": [
    "### *10Base-T*"
   ]
  },
  {
   "cell_type": "markdown",
   "id": "712e6956",
   "metadata": {},
   "source": [
    "One of the earliest Ethernet standards published was *10Base-T*. It specified a speed of transfer of *10 Mbps*, requiring Cat 3 or higher, two TPs cable with 8P8C connectors."
   ]
  },
  {
   "cell_type": "markdown",
   "id": "44ab6c12",
   "metadata": {},
   "source": [
    "#### *CSMA/CD*"
   ]
  },
  {
   "cell_type": "markdown",
   "id": "a5e643b4",
   "metadata": {},
   "source": [
    "Hub-based networks worked in *half-duplex* mode. This meant that, even though there were two pairs, a receiving and a sending pair, a node (or, system) could not send and receive at the same time, due to constraints placed by the logical bus topology.\n",
    "\n",
    "10Base-T NICs devised a clever way of operation, called *Carrier-sense Multiple Access with Collision Detection (CSMA/CD)*.\n",
    "\n",
    "* *Carrier-sense* meant that each node checked if there was traffic in the network before sending out its frames. If there was, the node waited a constant period of time before checking again. Once free, the node sent out its frame.\n",
    "\n",
    "* *Multiple Access* meant that each node had equal, shared-access to the network, regardless of its functionality.\n",
    "\n",
    "* *Collision Detection* occured when two nodes sent out two frames at the same time. Both nodes would sense the overlapping signals, and wait a random period of time, before re-trying."
   ]
  },
  {
   "cell_type": "markdown",
   "id": "4e078ffc",
   "metadata": {},
   "source": [
    "*Note:* Unlike hub-based networks, switch-based networks could work in *full-duplex* mode, with no risk of collision.\n",
    "\n",
    "*Note:* While a hub-based network is a *single collision domain*, each connection of a node to a switch, in a switch-based network, is its own collision domain.\n",
    "\n",
    "*Note:* Modern NICs and networking devices are able to negotiate the duplex mode when first connecting to a network, whether *half-duplex* or *full-duplex*."
   ]
  },
  {
   "cell_type": "markdown",
   "id": "36a5513b",
   "metadata": {},
   "source": [
    "#### Complex Networks"
   ]
  },
  {
   "cell_type": "markdown",
   "id": "3bb0d558",
   "metadata": {},
   "source": [
    "Hubs and switches may be connected in any order to create a complex network. The ports on NICs are labelled *Medium-Dependent Interface (MDI)*, while the ports on a switch or a hub are labelled *MDI Crossover (MDI-X)*. *Straight-through* cable connects an MDI port and an MDI-X port, while *cross-over* cable connects two similar ports.\n",
    "\n",
    "An *up-link* port, on a switch or a hub, is an MDI port, that eliminates the need for cross-over cable, when connecting one networking device to another."
   ]
  },
  {
   "cell_type": "markdown",
   "id": "d7e2e3ed",
   "metadata": {},
   "source": [
    "*Note:* Modern switches eliminate the need for cross-over cable with the *auto-sensing* feature in ports, adjusting to MDI or MDI-X according to the connected device."
   ]
  },
  {
   "cell_type": "markdown",
   "id": "269d5a34",
   "metadata": {},
   "source": [
    "#### Spanning Tree Protocol"
   ]
  },
  {
   "cell_type": "code",
   "execution_count": null,
   "id": "0b9c4b06",
   "metadata": {},
   "outputs": [],
   "source": []
  }
 ],
 "metadata": {
  "kernelspec": {
   "display_name": "Python 3 (ipykernel)",
   "language": "python",
   "name": "python3"
  },
  "language_info": {
   "codemirror_mode": {
    "name": "ipython",
    "version": 3
   },
   "file_extension": ".py",
   "mimetype": "text/x-python",
   "name": "python",
   "nbconvert_exporter": "python",
   "pygments_lexer": "ipython3",
   "version": "3.8.10"
  }
 },
 "nbformat": 4,
 "nbformat_minor": 5
}
