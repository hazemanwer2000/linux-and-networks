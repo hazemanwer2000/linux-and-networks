{
 "cells": [
  {
   "cell_type": "markdown",
   "id": "ed6f142c",
   "metadata": {},
   "source": [
    "# A brief summary of *Linux*\n",
    "<br>\n",
    "<div style=\"opacity: 0.8; font-family: Consolas, Monaco, Lucida Console, Liberation Mono, DejaVu Sans Mono, Bitstream Vera Sans Mono, Courier New; font-size: 12px; font-style: italic;\">\n",
    "    ────────\n",
    "    for more from the author, visit\n",
    "    <a href=\"https://github.com/hazemanwer2000\">github.com/hazemanwer2000</a>.\n",
    "    ────────\n",
    "</div>"
   ]
  },
  {
   "cell_type": "markdown",
   "id": "0d460fa1",
   "metadata": {},
   "source": [
    "## Table of Contents\n",
    "* [*Bash* Shell](#)\n",
    "    * [The Basics](#)\n",
    "        * [Commands](#)\n",
    "        * [Variables](#)\n",
    "        * [Scripts](#)\n",
    "        * [*Redirection*](#)\n",
    "        * [*Expansion*](#)\n",
    "        * [Other Tricks](#)\n",
    "    * [Scripting](#)\n",
    "        * [Working with Variables](#)\n",
    "        * [Working with Functions](#)\n",
    "        * [Working with `if`](#)\n",
    "        * [Working with `while`](#)\n",
    "        * [Working with `case`](#)\n",
    "        * [Working with `for`](#)\n",
    "        * [String Manipulation](#)\n",
    "        * [Arrays](#)\n",
    "        * [User Input](#)\n",
    "* [Useful Commands](#)\n",
    "    * [*CMD:* File System](#)\n",
    "        * [`cd`](#)\n",
    "        * [`ls`](#)\n",
    "        * [`mkdir`](#)\n",
    "        * [`cp`](#)\n",
    "        * [`rm`](#)\n",
    "        * [`find`](#)\n",
    "        * [`file`](#)\n",
    "        * [`ln`](#)\n",
    "    * [*CMD:* User Management](#)\n",
    "        * [`id`](#)\n",
    "        * [`chmod`](#)\n",
    "        * [`umask`](#)\n",
    "        * [`su`](#)\n",
    "        * [`sudo`](#)\n",
    "        * [`chown`](#)\n",
    "        * [`passwd`](#)\n",
    "        * [`useradd`](#)\n",
    "        * [`userdel`](#)\n",
    "        * [`usermod`](#)\n",
    "    * [*CMD:* Process Management](#)\n",
    "        * [`jobs`, `fg` and `kill`](#)\n",
    "        * [`ps`](#)\n",
    "    * [*CMD:* Package Management](#)\n",
    "        * [`apt`](#)\n",
    "        * [`dpkg`](#)\n",
    "    * [*CMD:* Device Management](#)\n",
    "        * [`lsblk`](#)\n",
    "        * [`mount` and `umount`](#)\n",
    "        \n",
    "\n",
    "<hr>"
   ]
  },
  {
   "cell_type": "markdown",
   "id": "5d578484",
   "metadata": {},
   "source": [
    "## *Bash* Shell <a class=\"anchor\" id=\"\"></a>"
   ]
  },
  {
   "cell_type": "markdown",
   "id": "71d3d81c",
   "metadata": {},
   "source": [
    "In most Linux systems, the default shell is *bash*."
   ]
  },
  {
   "cell_type": "markdown",
   "id": "6837c4c3",
   "metadata": {},
   "source": [
    "### The Basics"
   ]
  },
  {
   "cell_type": "markdown",
   "id": "8c77311f",
   "metadata": {},
   "source": [
    "#### Commands"
   ]
  },
  {
   "cell_type": "markdown",
   "id": "72d9d407",
   "metadata": {},
   "source": [
    "A shell command may be one of five types.\n",
    "\n",
    "1. An *alias*, to another command.\n",
    "2. A reserved word, such as `while`, `case`, and similar programming constructs.\n",
    "3. A *function*, an alias to a set of commands to be executed together, possibly accepting arguments.\n",
    "4. A shell built-in, a command built into the shell itself.\n",
    "5. A file-system command, stored and executed from the file system.\n",
    "\n",
    "*Note:* The shell checks for commands in the above order, which allows for an alias, or a function and a command to match in naming.\n",
    "\n",
    "*Note:* A file-system command is searched for in colon-separated directories, left-to-right, defined in the `$PATH` environment variable, discussed later.\n",
    "\n",
    "*Note:* The exit status of the last executed command may be accessed using a special variable, `$?`, discussed later. For piped commands, discussed later, use the shell array variable `$PIPESTATUS`."
   ]
  },
  {
   "cell_type": "markdown",
   "id": "e60d2d8e",
   "metadata": {},
   "source": [
    "To check the type of a command,"
   ]
  },
  {
   "cell_type": "code",
   "execution_count": null,
   "id": "7e8e7e03",
   "metadata": {},
   "outputs": [],
   "source": [
    "type -a command-name          # 'type' is a shell built-in"
   ]
  },
  {
   "cell_type": "markdown",
   "id": "022d4a4e",
   "metadata": {},
   "source": [
    "To define a new alias,"
   ]
  },
  {
   "cell_type": "code",
   "execution_count": null,
   "id": "b6f5c820",
   "metadata": {},
   "outputs": [],
   "source": [
    "alias name=\"command with options and arguments\""
   ]
  },
  {
   "cell_type": "markdown",
   "id": "c0b86c9b",
   "metadata": {},
   "source": [
    "To get help for the shell built-in,"
   ]
  },
  {
   "cell_type": "code",
   "execution_count": null,
   "id": "cc1ac36e",
   "metadata": {},
   "outputs": [],
   "source": [
    "help command-name             # 'help' is a shell-built-in "
   ]
  },
  {
   "cell_type": "markdown",
   "id": "5ef38b18",
   "metadata": {},
   "source": [
    "To get help on a Linux file-system command, consult the offline manual pages,"
   ]
  },
  {
   "cell_type": "code",
   "execution_count": null,
   "id": "15253ac3",
   "metadata": {},
   "outputs": [],
   "source": [
    "man -f command-name                       # Returns the section number a command is described in"
   ]
  },
  {
   "cell_type": "code",
   "execution_count": null,
   "id": "92e50889",
   "metadata": {},
   "outputs": [],
   "source": [
    "man section-number command-name           # Shows the description of a command in a specific section"
   ]
  },
  {
   "cell_type": "markdown",
   "id": "78284b1c",
   "metadata": {},
   "source": [
    "#### Variables"
   ]
  },
  {
   "cell_type": "markdown",
   "id": "a727377a",
   "metadata": {},
   "source": [
    "Every shell session has *variables* associated with it, that store useful information. A subset of those are exported to any shells opened from the current shell, called *environment variables*."
   ]
  },
  {
   "cell_type": "markdown",
   "id": "b44beeb6",
   "metadata": {},
   "source": [
    "*Note:* Similarly, defined functions may be exported to any shells opened from the current shell, discussed later."
   ]
  },
  {
   "cell_type": "markdown",
   "id": "0661c4da",
   "metadata": {},
   "source": [
    "#### Scripts"
   ]
  },
  {
   "cell_type": "markdown",
   "id": "1556dfbc",
   "metadata": {},
   "source": [
    "A *script* is a file that lists a series of commands, line by line, to be executed.\n",
    "\n",
    "Different script files are executed, by default, at different stages.\n",
    "\n",
    "| *Path* | *Description* |\n",
    "| :-- | :-- |\n",
    "| `/etc/profile` | Executed for every new login shell, for all users.\n",
    "| `~/.bash_profile` | Executed for every new login shell, for the corresponding user.\n",
    "| `~/.bash_logout` | Executed for every exit from a login shell, for the corresponding user.\n",
    "| ㅤ |\n",
    "| `/etc/bashrc` | Executed for every new shell, for all users.\n",
    "| `~/.bashrc` | Executed for every new shell, for the corresponding user."
   ]
  },
  {
   "cell_type": "markdown",
   "id": "f095b1a5",
   "metadata": {},
   "source": [
    "*Note:* A *login shell* is a shell that prompts a user for login."
   ]
  },
  {
   "cell_type": "markdown",
   "id": "d1a8ca3e",
   "metadata": {},
   "source": [
    "#### *Redirection*"
   ]
  },
  {
   "cell_type": "markdown",
   "id": "d07029fa",
   "metadata": {},
   "source": [
    "Every executing command has a standard output *(stdout)*, input *(stdin)* and error *(stderr)* associated with. By default, *stdin* is the keyboard, and *stdout(-err)* is the screen.\n",
    "\n",
    "The shell allows for the *redirection* of the *stdout*, *stdin* and *stderr*, allowing, for example, *stdout* of one command to be the *stdin* of another.\n",
    "\n",
    "| *Syntax* | *Description* |\n",
    "| :-- | :-- |\n",
    "| `cmd1 \\| cmd2` | Redirects *stdout* of `cmd1` to *stdin* of `cmd2`. |\n",
    "| ㅤ |\n",
    "| `cmd < file` | Redirects the contents of `file` to *stdin* of `cmd`. |\n",
    "| ㅤ |\n",
    "| `cmd > file` | Redirects the *stdout* of `cmd` to `file`. If it exists, file is overwritten.\n",
    "| `cmd >> file` | Redirects the *stdout* of `cmd` to `file`. If it exists, file is appended to.\n",
    "| ㅤ |\n",
    "| `cmd 2> file` | Redirects the *stderr* of `cmd` to `file`. If it exists, file is overwritten.\n",
    "| `cmd &> file` | Redirects the *stdout* and *stderr* of `cmd` to `file`. If it exists, file is overwritten."
   ]
  },
  {
   "cell_type": "markdown",
   "id": "9462d8e0",
   "metadata": {},
   "source": [
    "*Note:* *Piping*, using `|`, executes commands in a subshell, and not the current shell instance."
   ]
  },
  {
   "cell_type": "markdown",
   "id": "a4431b82",
   "metadata": {},
   "source": [
    "#### *Expansion*"
   ]
  },
  {
   "cell_type": "markdown",
   "id": "9147af0f",
   "metadata": {},
   "source": [
    "Before a command line is interpreted for execution, the shell performs different types of *expansions*."
   ]
  },
  {
   "cell_type": "markdown",
   "id": "0eae0b8f",
   "metadata": {},
   "source": [
    "| *Text* | *Expansion* |\n",
    "| :-- | :-- |\n",
    "| `$PATH` or `${PATH}` | The contents of the variable (e.g: `\\bin:\\usr\\bin`). |\n",
    "| `$(echo some text)` | The output of the command (e.g: `some text`). |\n",
    "| `$[2020 - 1957]` or `$((2020 - 1957))` | The result of the arithmetic expression (e.g: `63`). |\n",
    "| ㅤ |\n",
    "| `~` | The path of the home directory of the current user.\n",
    "| `*.txt` | All files, within the current working directory, with a `.txt` extension.\n",
    "| `{1,2,3}.txt` | Expands into `1.txt 2.txt 3.txt`."
   ]
  },
  {
   "cell_type": "markdown",
   "id": "af3c1d24",
   "metadata": {},
   "source": [
    "*Note:* In arithmetic expansions, bitwise and logical operators may be used, with various numerical bases.\n",
    "\n",
    "*Note:* Similar to `*`, `?` matches any character, and `[...]` matches a range of characters (e.g: `[a-zA-Z0-9]`, `[abc123]`). \n",
    "\n",
    "*Note:* Keep in mind that filename expansion characters do not match the first dot in a filename (e.g: `*` does not match hidden files).\n",
    "\n",
    "*Note:* `{1,2,3}` is synonymous with `{1..3}`, and `{a,b,c}` is synonymous with `{a..c}`.\n",
    "\n",
    "*Note:* Expansions occur in the following order: brace expansion, tilde expansion, variable expansion, command substitution, arithmetic expansion, and filename expansion."
   ]
  },
  {
   "cell_type": "markdown",
   "id": "af3df951",
   "metadata": {},
   "source": [
    "#### Other Tricks"
   ]
  },
  {
   "cell_type": "markdown",
   "id": "2d89962e",
   "metadata": {},
   "source": [
    "1. Commands may be separated on a single command line, using `;`."
   ]
  },
  {
   "cell_type": "code",
   "execution_count": null,
   "id": "e221f6bf",
   "metadata": {},
   "outputs": [],
   "source": [
    "command-name options arguments; echo $?            # Executes a command, then prints exit status"
   ]
  },
  {
   "cell_type": "markdown",
   "id": "a8d91b4e",
   "metadata": {},
   "source": [
    "2. Opening a `\"` without closing it, allows for the entry of a multi-line argument."
   ]
  },
  {
   "cell_type": "code",
   "execution_count": null,
   "id": "63f10e35",
   "metadata": {},
   "outputs": [],
   "source": [
    "command-name -option \"\n",
    "    Multi-Line\n",
    "    Argument\n",
    "\""
   ]
  },
  {
   "cell_type": "markdown",
   "id": "9999c280",
   "metadata": {},
   "source": [
    "3. To continue a command on another line, append the current line with `\\`."
   ]
  },
  {
   "cell_type": "code",
   "execution_count": null,
   "id": "a0d71b29",
   "metadata": {},
   "outputs": [],
   "source": [
    "command-name -option \\\n",
    "argument"
   ]
  },
  {
   "cell_type": "markdown",
   "id": "2465a52b",
   "metadata": {},
   "source": [
    "4. A *HERE* string is a string redirected to the *stdin* of a command."
   ]
  },
  {
   "cell_type": "code",
   "execution_count": null,
   "id": "f4480d59",
   "metadata": {},
   "outputs": [],
   "source": [
    "command-name -option argument <<< \"Single-Line String\""
   ]
  },
  {
   "cell_type": "code",
   "execution_count": null,
   "id": "5b58f6c0",
   "metadata": {},
   "outputs": [],
   "source": [
    "command-name -option argument <<< \"\n",
    "    Multi-Line\n",
    "    String\n",
    "\""
   ]
  },
  {
   "cell_type": "markdown",
   "id": "e967e6f0",
   "metadata": {},
   "source": [
    "*Note:* A *HERE* document is similar to a *HERE* string, that uses `<<` instead of `<<<`, and `EOF` instead of `\"`."
   ]
  },
  {
   "cell_type": "markdown",
   "id": "da24889b",
   "metadata": {},
   "source": [
    "5. Filename expansion does not occur within quotes."
   ]
  },
  {
   "cell_type": "code",
   "execution_count": null,
   "id": "dd4c5eda",
   "metadata": {},
   "outputs": [],
   "source": [
    "echo \"*\"                     # Displays '*'"
   ]
  },
  {
   "cell_type": "markdown",
   "id": "faf3b58e",
   "metadata": {},
   "source": [
    "### Scripting"
   ]
  },
  {
   "cell_type": "markdown",
   "id": "9a7e4a77",
   "metadata": {},
   "source": [
    "Every script begins with a *shebang*, denoted by `#!`, that tells the OS the path of the interpreter to execute the script."
   ]
  },
  {
   "cell_type": "code",
   "execution_count": null,
   "id": "1c75be91",
   "metadata": {},
   "outputs": [],
   "source": [
    "#!/bin/bash"
   ]
  },
  {
   "cell_type": "markdown",
   "id": "77e7f1ea",
   "metadata": {},
   "source": [
    "*Note:* The use of a shebang allows the execution of a script file, as a file-system command, instead of having to pass it to the interpreter explicitly, as `bash script-name`. This is common to all interpreted programming languages (e.g: Python)."
   ]
  },
  {
   "cell_type": "markdown",
   "id": "29bd5d8e",
   "metadata": {},
   "source": [
    "To execute commands within a script file in the current shell,"
   ]
  },
  {
   "cell_type": "code",
   "execution_count": null,
   "id": "5df33986",
   "metadata": {},
   "outputs": [],
   "source": [
    "source script-path              # 'source' is a shell built-in"
   ]
  },
  {
   "cell_type": "code",
   "execution_count": null,
   "id": "e8d0b926",
   "metadata": {},
   "outputs": [],
   "source": [
    ". script-path                   # '.' is a shortcut to 'source'"
   ]
  },
  {
   "cell_type": "markdown",
   "id": "51f5501c",
   "metadata": {},
   "source": [
    "A comment is denoted by a `#`."
   ]
  },
  {
   "cell_type": "code",
   "execution_count": null,
   "id": "d309ca9d",
   "metadata": {},
   "outputs": [],
   "source": [
    "command -option argument        # This is a comment"
   ]
  },
  {
   "cell_type": "markdown",
   "id": "05e44fe2",
   "metadata": {},
   "source": [
    "#### Working with Variables"
   ]
  },
  {
   "cell_type": "markdown",
   "id": "2c5fc5e7",
   "metadata": {},
   "source": [
    "A variable must consist only of alphanumeric characters and underscores, and may not begin with a digit."
   ]
  },
  {
   "cell_type": "code",
   "execution_count": null,
   "id": "565e3c3d",
   "metadata": {},
   "outputs": [],
   "source": [
    "var=\"Just a line of text.\""
   ]
  },
  {
   "cell_type": "markdown",
   "id": "6ab5d85a",
   "metadata": {},
   "source": [
    "*Note:* The expansion of any unset variable is an empty string."
   ]
  },
  {
   "cell_type": "markdown",
   "id": "33799643",
   "metadata": {},
   "source": [
    "To export a variable to new shells opened from the current shell,"
   ]
  },
  {
   "cell_type": "code",
   "execution_count": null,
   "id": "799b8a50",
   "metadata": {},
   "outputs": [],
   "source": [
    "export var                     # 'export' is a shell built-in"
   ]
  },
  {
   "cell_type": "markdown",
   "id": "a169f860",
   "metadata": {},
   "source": [
    "#### Working with Functions"
   ]
  },
  {
   "cell_type": "markdown",
   "id": "80c4c14e",
   "metadata": {},
   "source": [
    "A function is a type of a command."
   ]
  },
  {
   "cell_type": "code",
   "execution_count": null,
   "id": "d2009047",
   "metadata": {},
   "outputs": [],
   "source": [
    "function function-name {\n",
    "    command1\n",
    "    command2\n",
    "    ...\n",
    "    \n",
    "    return 0                  # Exit status\n",
    "}"
   ]
  },
  {
   "cell_type": "markdown",
   "id": "685617b4",
   "metadata": {},
   "source": [
    "Several special variables may be used within functions."
   ]
  },
  {
   "cell_type": "markdown",
   "id": "dcf5082f",
   "metadata": {},
   "source": [
    "| *Special Variable* | *Description* |\n",
    "| :-- | :-- |\n",
    "| `$1` | The first argument passed to a function.\n",
    "| `$#` | The number of arguments passed to a function.\n",
    "| `$@` | All arguments passed to a function, individually double-quoted.\n",
    "| `$*` | All arguments passed to a function, all double-quoted."
   ]
  },
  {
   "cell_type": "markdown",
   "id": "b7b6e518",
   "metadata": {},
   "source": [
    "*Note:* These variables, when used outside of a function, relate to the arguments passed to the script itself.\n",
    "\n",
    "*Note:* To access an argument greater than nine, surround the number with braces (e.g: `${10}`).\n",
    "\n",
    "*Note:* `shift` is a shell built-in command, that shifts all arguments (e.g: `$2` becomes `$1`), and decrements `$#`."
   ]
  },
  {
   "cell_type": "markdown",
   "id": "9f8282ee",
   "metadata": {},
   "source": [
    "To define a local variable within a function,"
   ]
  },
  {
   "cell_type": "code",
   "execution_count": null,
   "id": "b6f784ab",
   "metadata": {},
   "outputs": [],
   "source": [
    "function function-name {\n",
    "    local var                     # Overrides global variable 'var', if it exists\n",
    "    var=\"...\"\n",
    "}"
   ]
  },
  {
   "cell_type": "markdown",
   "id": "e4a6c3f4",
   "metadata": {},
   "source": [
    "To export a function to new shells opened from the current shell,"
   ]
  },
  {
   "cell_type": "code",
   "execution_count": null,
   "id": "032b7419",
   "metadata": {},
   "outputs": [],
   "source": [
    "export -f function-name"
   ]
  },
  {
   "cell_type": "markdown",
   "id": "1260089b",
   "metadata": {},
   "source": [
    "#### Working with `if`"
   ]
  },
  {
   "cell_type": "markdown",
   "id": "a22423d2",
   "metadata": {},
   "source": [
    "`if` and related reserved keywords enable conditional execution of commands, based on the exit status of another command.\n",
    "* `0` evaluates to *true*.\n",
    "* Any other value evaluates to *false*."
   ]
  },
  {
   "cell_type": "code",
   "execution_count": null,
   "id": "4704a45a",
   "metadata": {},
   "outputs": [],
   "source": [
    "if command; then\n",
    "    ...\n",
    "elif command; then\n",
    "    ...\n",
    "else\n",
    "    ...\n",
    "fi"
   ]
  },
  {
   "cell_type": "markdown",
   "id": "6fbd5114",
   "metadata": {},
   "source": [
    "The most commonly used command for conditional execution is `test`."
   ]
  },
  {
   "cell_type": "markdown",
   "id": "ae9cfed8",
   "metadata": {},
   "source": [
    "| *Command* | *Evaluates to true if?* |\n",
    "| :-- | :-- |\n",
    "| `test -e file` | File exists.\n",
    "| `test -d file` | File is a directory.\n",
    "| `test -f file` | File is a regular file.\n",
    "| ㅤ |\n",
    "| `test string` | String is not empty.\n",
    "| `test string1 == string2` | Strings are matching.\n",
    "| `test string1 != string2` | Strings are non-matching.\n",
    "| ㅤ |\n",
    "| `test int1 -eq int2` | First integer is equal to second integer.\n",
    "| `test int1 -ne int2` | First integer is not equal to second integer.\n",
    "| `test int1 -lt int2` | First integer is less than second integer.\n",
    "| `test int1 -le int2` | First integer is less than or equal to second integer.\n",
    "| `test int1 -gt int2` | First integer is greater than second integer.\n",
    "| `test int1 -ge int2` | First integer is greater than or equal to second integer."
   ]
  },
  {
   "cell_type": "markdown",
   "id": "5178c7ab",
   "metadata": {},
   "source": [
    "*Note:* `[ ... ]` is a more syntatically pleasing way of typing `test ...`.\n",
    "\n",
    "*Note:* `!` is a shell built-in operator that negates the exit status of a succeeding command."
   ]
  },
  {
   "cell_type": "markdown",
   "id": "401aefae",
   "metadata": {},
   "source": [
    "The shell built-in operator `[[ ... ]]` supports all that `[ ... ]` supports, and more."
   ]
  },
  {
   "cell_type": "markdown",
   "id": "abee4ff6",
   "metadata": {},
   "source": [
    "| *Command* | *Evaluates to true if?* |\n",
    "| :-- | :-- |\n",
    "| `[[ $STRING == *.txt ]]` | `$STRING` has a `.txt` extension.\n",
    "| `[[ $STRING =~ ^.+@.+\\.com$ ]]` | `$STRING` is an e-mail address."
   ]
  },
  {
   "cell_type": "markdown",
   "id": "d3a52c35",
   "metadata": {},
   "source": [
    "Both `[ ... ]` and `[[ ... ]]` support shell built-in logical operators."
   ]
  },
  {
   "cell_type": "markdown",
   "id": "e95d1d46",
   "metadata": {},
   "source": [
    "| *Operation* | `[ ... ]` | `[[ ... ]]`\n",
    "| :-- | :-- | :-- |\n",
    "| *AND* | `-a` | `&&`\n",
    "| *OR* | `-o` | `\\|\\|`"
   ]
  },
  {
   "cell_type": "markdown",
   "id": "919dde61",
   "metadata": {},
   "source": [
    "#### Working with `while`"
   ]
  },
  {
   "cell_type": "markdown",
   "id": "2edae0c4",
   "metadata": {},
   "source": [
    "`while` and related reserved keywords enable looping on commands, based on the exit status of another command."
   ]
  },
  {
   "cell_type": "code",
   "execution_count": null,
   "id": "aec194ff",
   "metadata": {},
   "outputs": [],
   "source": [
    "while command; do\n",
    "    ...\n",
    "done"
   ]
  },
  {
   "cell_type": "code",
   "execution_count": null,
   "id": "55237adc",
   "metadata": {},
   "outputs": [],
   "source": [
    "until command; do            # 'until' is the inversion of `while\n",
    "    ...\n",
    "done"
   ]
  },
  {
   "cell_type": "markdown",
   "id": "8f4d2ce2",
   "metadata": {},
   "source": [
    "*Note:* `break` and `continue` are shell built-in commands that may be used within a `while`, to break loop or skip an iteration, respectively."
   ]
  },
  {
   "cell_type": "markdown",
   "id": "39434d7e",
   "metadata": {},
   "source": [
    "There is syntax that allows redirection to the *stdin* of the looping command."
   ]
  },
  {
   "cell_type": "code",
   "execution_count": null,
   "id": "d9c5fadc",
   "metadata": {},
   "outputs": [],
   "source": [
    "command | while command; do\n",
    "    ...\n",
    "done"
   ]
  },
  {
   "cell_type": "code",
   "execution_count": null,
   "id": "2ad989bc",
   "metadata": {},
   "outputs": [],
   "source": [
    "while command; do\n",
    "    ...\n",
    "done < file"
   ]
  },
  {
   "cell_type": "markdown",
   "id": "857cc073",
   "metadata": {},
   "source": [
    "#### Working with `case`"
   ]
  },
  {
   "cell_type": "markdown",
   "id": "5442f493",
   "metadata": {},
   "source": [
    "`case` and related reserved keywords enable conditional execution of commands, based on the contents of a string matching a pattern."
   ]
  },
  {
   "cell_type": "code",
   "execution_count": null,
   "id": "5be04116",
   "metadata": {},
   "outputs": [],
   "source": [
    "case string in\n",
    "    pattern | pattern | ... )\n",
    "        command\n",
    "        ...\n",
    "        ;;\n",
    "    pattern | pattern | ... )\n",
    "        command\n",
    "        ...\n",
    "        ;;\n",
    "    ...\n",
    "esac"
   ]
  },
  {
   "cell_type": "markdown",
   "id": "1c4c202e",
   "metadata": {},
   "source": [
    "*Note:* Patterns used by `case` utilize wildcards, like `*` and `?`, but not RegEx.\n",
    "\n",
    "*Note:* To enable the matching of more than one case, terminate cases with `;;&` instead of `;;`."
   ]
  },
  {
   "cell_type": "markdown",
   "id": "bd28046d",
   "metadata": {},
   "source": [
    "#### Working with `for`"
   ]
  },
  {
   "cell_type": "markdown",
   "id": "7f198c4e",
   "metadata": {},
   "source": [
    "`for` and related reserved keywords enable looping on commands, with one of multiple strings at a time, assigned to a looping variable."
   ]
  },
  {
   "cell_type": "code",
   "execution_count": null,
   "id": "69b033c5",
   "metadata": {},
   "outputs": [],
   "source": [
    "for i in str1 str2 ...; do\n",
    "    command\n",
    "    ...\n",
    "done"
   ]
  },
  {
   "cell_type": "markdown",
   "id": "2a70c1e6",
   "metadata": {},
   "source": [
    "Another `for` syntax bares similarity to general-purpose programming languages (e.g: C)."
   ]
  },
  {
   "cell_type": "code",
   "execution_count": null,
   "id": "76005d54",
   "metadata": {},
   "outputs": [],
   "source": [
    "for (( i=0; i<N; i=i+STEP )); do\n",
    "    command\n",
    "    ...\n",
    "done"
   ]
  },
  {
   "cell_type": "markdown",
   "id": "c0cee3fd",
   "metadata": {},
   "source": [
    "#### String Manipulation"
   ]
  },
  {
   "cell_type": "markdown",
   "id": "79a54800",
   "metadata": {},
   "source": [
    "Variable expansion syntax allows for various string manipulation operations."
   ]
  },
  {
   "cell_type": "markdown",
   "id": "28ee237c",
   "metadata": {},
   "source": [
    "| *Syntax* | *Description* |\n",
    "| :-- | :-- |\n",
    "| `${VAR:-string}` | Expands into `string` if `$VAR` is empty. |\n",
    "| `${#VAR}` | Expands into length of `$VAR`. |\n",
    "| ㅤ |\n",
    "| `${VAR:I}` | Expands into substring, with start index `$I`. |\n",
    "| `${VAR:I:N}` | Expands into substring, with start index `$I` and length `$N`. |\n",
    "| ㅤ |\n",
    "| `${VAR#*.}` | Removes shortest match to pattern `*.`, from the beginning. |\n",
    "| `${VAR##*.}` | Removes longest match to pattern `*.`, from the beginning. |\n",
    "| ㅤ |\n",
    "| `${VAR%.*}` | Removes shortest match to pattern `.*`, from the end. |\n",
    "| `${VAR%%.*}` | Removes longest match to pattern `.*`, from the end. |\n",
    "| ㅤ |\n",
    "| `${VAR//str1/str2}` | Replaces all occurences of `str1` with `str2`. |\n",
    "| `${VAR/#str1/str2}` | Replaces an occurence of `str1` with `str2`, must occur at the beginning. |\n",
    "| `${VAR/%str1/str2}` | Replaces all occurences of `str1` with `str2`must occur at the end. |\n",
    "| ㅤ |\n",
    "| `${VAR,,}` | Transform all characters into lower-case. |\n",
    "| `${VAR^^}` | Transform all characters into upper-case. |\n",
    "| `${VAR^}` | Transform first character only into upper-case. |"
   ]
  },
  {
   "cell_type": "markdown",
   "id": "2b577475",
   "metadata": {},
   "source": [
    "#### Arrays"
   ]
  },
  {
   "cell_type": "markdown",
   "id": "bbfed5df",
   "metadata": {},
   "source": [
    "The shell supports arrays, as a variable type."
   ]
  },
  {
   "cell_type": "code",
   "execution_count": null,
   "id": "4b5de142",
   "metadata": {},
   "outputs": [],
   "source": [
    "arr={\"...\" \"...\" ...}          # Creates array 'arr'"
   ]
  },
  {
   "cell_type": "code",
   "execution_count": null,
   "id": "000bcb06",
   "metadata": {},
   "outputs": [],
   "source": [
    "arr[0]=\"...\"                   # Creates array 'arr', assigns first element"
   ]
  },
  {
   "cell_type": "code",
   "execution_count": null,
   "id": "f43c5fd0",
   "metadata": {},
   "outputs": [],
   "source": [
    "${arr[0]}                      # Expands first element of array 'arr'"
   ]
  },
  {
   "cell_type": "markdown",
   "id": "c2ea25b6",
   "metadata": {},
   "source": [
    "The shell, also, supports associative arrays, as a variable type."
   ]
  },
  {
   "cell_type": "code",
   "execution_count": null,
   "id": "1d051732",
   "metadata": {},
   "outputs": [],
   "source": [
    "declare -A colors              # 'declare' is a shell built-in\n",
    "\n",
    "colors[\"red\"]=\"#ff0000\""
   ]
  },
  {
   "cell_type": "code",
   "execution_count": null,
   "id": "c0a68917",
   "metadata": {},
   "outputs": [],
   "source": [
    "echo ${colors[\"red\"]}"
   ]
  },
  {
   "cell_type": "markdown",
   "id": "ae6f0cce",
   "metadata": {},
   "source": [
    "#### User Input"
   ]
  },
  {
   "cell_type": "markdown",
   "id": "6ce143ff",
   "metadata": {},
   "source": [
    "The `read` shell built-in command allows for the receiving of user input, to be read from `$REPLY`, by default."
   ]
  },
  {
   "cell_type": "code",
   "execution_count": null,
   "id": "90831044",
   "metadata": {},
   "outputs": [],
   "source": [
    "read                  # Reads line into '$REPLY'"
   ]
  },
  {
   "cell_type": "code",
   "execution_count": null,
   "id": "4ad7e907",
   "metadata": {},
   "outputs": [],
   "source": [
    "read VAR              # Reads line into '$VAR'"
   ]
  },
  {
   "cell_type": "code",
   "execution_count": null,
   "id": "84d24a3c",
   "metadata": {},
   "outputs": [],
   "source": [
    "read -a ARR           # Reads line, split into '$ARR'"
   ]
  },
  {
   "cell_type": "markdown",
   "id": "90ff082b",
   "metadata": {},
   "source": [
    "*Note:* The `-s` option enables silent mode, which disables the display of characters as they are typed, used for confidential input (e.g: password).\n",
    "\n",
    "*Note:* The `-p` options allows for an argument to be displayed, as prompt, beforehand."
   ]
  },
  {
   "cell_type": "markdown",
   "id": "26a73a14",
   "metadata": {},
   "source": [
    "## Useful Commands"
   ]
  },
  {
   "cell_type": "markdown",
   "id": "bd59ef87",
   "metadata": {},
   "source": [
    "### *CMD:* File System"
   ]
  },
  {
   "cell_type": "markdown",
   "id": "d7fb93bc",
   "metadata": {},
   "source": [
    "In Linux, the root directory is `/`."
   ]
  },
  {
   "cell_type": "markdown",
   "id": "919ffaab",
   "metadata": {},
   "source": [
    "| *Path* | *Description* |\n",
    "| :-- | :-- |\n",
    "| `/root/` | Home directory of *root* user. |\n",
    "| `/home/USER/` | Home directory of any user. |"
   ]
  },
  {
   "cell_type": "markdown",
   "id": "8caf9193",
   "metadata": {},
   "source": [
    "*Note:* In Linux, `./` denotes the working directory, and `../` denotes the parent directory of."
   ]
  },
  {
   "cell_type": "markdown",
   "id": "b7dbcd2f",
   "metadata": {},
   "source": [
    "#### `cd`"
   ]
  },
  {
   "cell_type": "markdown",
   "id": "a5dbfc96",
   "metadata": {},
   "source": [
    "`cd` is a shell built-in command that allows the user to change the working directory."
   ]
  },
  {
   "cell_type": "code",
   "execution_count": null,
   "id": "2b44272d",
   "metadata": {},
   "outputs": [],
   "source": [
    "cd PATH"
   ]
  },
  {
   "cell_type": "markdown",
   "id": "aee7912c",
   "metadata": {},
   "source": [
    "*Note:* `pwd` is a shell built-in command that displays the working directory."
   ]
  },
  {
   "cell_type": "markdown",
   "id": "c2ff55da",
   "metadata": {},
   "source": [
    "#### `ls`"
   ]
  },
  {
   "cell_type": "markdown",
   "id": "1a009e06",
   "metadata": {},
   "source": [
    "`ls` is a file-system command that displays the contents of any directory."
   ]
  },
  {
   "cell_type": "code",
   "execution_count": null,
   "id": "1cf88778",
   "metadata": {},
   "outputs": [],
   "source": [
    "ls -options PATH"
   ]
  },
  {
   "cell_type": "markdown",
   "id": "3fdc6bbe",
   "metadata": {},
   "source": [
    "| *Option* | *Description* |\n",
    "| :-- | :-- |\n",
    "| `-A` | Includes hidden files and directories.\n",
    "| `-l` | Display information (e.g: size) about each file, or directory.\n",
    "| `-h` | Combined with `-l`, displays size in human-readable format."
   ]
  },
  {
   "cell_type": "markdown",
   "id": "f51787d3",
   "metadata": {},
   "source": [
    "*Note:* In Linux, a hidden file (or, directory) is any file that begins with a dot.\n",
    "\n",
    "*Note:* `ls` displays the actual size, and not disk space utilized, for regular files only. For directories, the disk space utilized to store meta-information about the directory is displayed.\n",
    "\n",
    "*Note:* Typing `ls -l`, the first character represents the type of file: `-` for regular files, `d` for directories, `l` for symbolic links."
   ]
  },
  {
   "cell_type": "markdown",
   "id": "680cd636",
   "metadata": {},
   "source": [
    "#### `mkdir`"
   ]
  },
  {
   "cell_type": "markdown",
   "id": "59944b20",
   "metadata": {},
   "source": [
    "`mkdir` is a file-system command that creates directories."
   ]
  },
  {
   "cell_type": "code",
   "execution_count": null,
   "id": "a9cd60b1",
   "metadata": {},
   "outputs": [],
   "source": [
    "mkdir DIR1 DIR2 ..."
   ]
  },
  {
   "cell_type": "markdown",
   "id": "e2f8dc38",
   "metadata": {},
   "source": [
    "#### `cp`"
   ]
  },
  {
   "cell_type": "markdown",
   "id": "3104a03b",
   "metadata": {},
   "source": [
    "`cp` is a file-system command that copies files and directories."
   ]
  },
  {
   "cell_type": "code",
   "execution_count": null,
   "id": "6542a13b",
   "metadata": {},
   "outputs": [],
   "source": [
    "cp OLD_PATH/OLD_NAME NEW_PATH/NEW_NAME                       # Copies file or directory, from 'OLD_PATH'\n",
    "                                                             #   to 'NEW_PATH', and renames it."
   ]
  },
  {
   "cell_type": "code",
   "execution_count": null,
   "id": "0f0dfc1a",
   "metadata": {},
   "outputs": [],
   "source": [
    "cp PATH1/NAME1 PATH2/NAME2 ... PATH/EXISTING_DIRECTORY       # Copies files or directories, into an\n",
    "                                                             #   existing directory, without renaming."
   ]
  },
  {
   "cell_type": "markdown",
   "id": "cf227477",
   "metadata": {},
   "source": [
    "*Note:* When copying a directory, use the `-r` option.\n",
    "\n",
    "*Note:* `mv` is a file-system command, that moves files and directories, instead. The `-r` option is not required when moving directories."
   ]
  },
  {
   "cell_type": "markdown",
   "id": "8d19d2e1",
   "metadata": {},
   "source": [
    "#### `rm`"
   ]
  },
  {
   "cell_type": "markdown",
   "id": "47d3fee4",
   "metadata": {},
   "source": [
    "`rm` is a file-system command that removes files and directories."
   ]
  },
  {
   "cell_type": "code",
   "execution_count": null,
   "id": "9404da71",
   "metadata": {},
   "outputs": [],
   "source": [
    "rm -options item1 item2 ..."
   ]
  },
  {
   "cell_type": "markdown",
   "id": "76ff51cd",
   "metadata": {},
   "source": [
    "| *Option* | *Description* |\n",
    "| :-- | :-- |\n",
    "| `-r` | Performs recursive deletion, required for directories.\n",
    "| `-f` | Ignores non-existent files and directories."
   ]
  },
  {
   "cell_type": "markdown",
   "id": "11550df0",
   "metadata": {},
   "source": [
    "#### `find`"
   ]
  },
  {
   "cell_type": "markdown",
   "id": "6dee1fed",
   "metadata": {},
   "source": [
    "`find` is a file-system command that searches for files and directories everywhere inside a directory."
   ]
  },
  {
   "cell_type": "code",
   "execution_count": null,
   "id": "97173b8b",
   "metadata": {},
   "outputs": [],
   "source": [
    "find SEARCH_DIR -name FILE"
   ]
  },
  {
   "cell_type": "markdown",
   "id": "f12a51b8",
   "metadata": {},
   "source": [
    "| *Option* | *Description* |\n",
    "| :-- | :-- |\n",
    "| `-maxdepth NUMBER` | Specify maximum search depth (e.g: `1` disables recursive search).\n",
    "| `-type ARGUMENT` | Specify file type (e.g: `f` for regular files, `d` for directories, etc).\n",
    "| `-size SIZE` | Specify size (e.g: `+1M`, `-2k`, `20c` for bytes)."
   ]
  },
  {
   "cell_type": "markdown",
   "id": "bfa4b3a1",
   "metadata": {},
   "source": [
    "*Note:* `find` accepts patterns as arguments to the `-name` option. (e.g: `file*`)."
   ]
  },
  {
   "cell_type": "markdown",
   "id": "05ed1954",
   "metadata": {},
   "source": [
    "#### `file`"
   ]
  },
  {
   "cell_type": "markdown",
   "id": "20038ba2",
   "metadata": {},
   "source": [
    "`file` is a file-system command that determines the type of a file."
   ]
  },
  {
   "cell_type": "code",
   "execution_count": null,
   "id": "0d50c188",
   "metadata": {},
   "outputs": [],
   "source": [
    "file file-path"
   ]
  },
  {
   "cell_type": "markdown",
   "id": "42afd4c2",
   "metadata": {},
   "source": [
    "*Note:* In Linux, extensions are ignored, unlike in Windows OS."
   ]
  },
  {
   "cell_type": "markdown",
   "id": "002641b6",
   "metadata": {},
   "source": [
    "#### `ln`"
   ]
  },
  {
   "cell_type": "markdown",
   "id": "ff51ae92",
   "metadata": {},
   "source": [
    "`ln` is a file-system command that creates hard and symbolic links."
   ]
  },
  {
   "cell_type": "markdown",
   "id": "25d97980",
   "metadata": {},
   "source": [
    "A *hard link* is indistinguishable from a linked file.\n",
    "* It can only link to files, and not directories.\n",
    "* It can only link to files within the physical partition where it resides.\n",
    "\n",
    "*Note:* `ls -l` shows the number of hard links to a file. When it reaches zero, the file is removed."
   ]
  },
  {
   "cell_type": "markdown",
   "id": "eec8cff7",
   "metadata": {},
   "source": [
    "A *symbolic link* is similar to a shortcut in Windows OS. The limitations of hard links do not apply to symbolic links.\n",
    "\n",
    "*Note:* Copying and moving symbolic links operate on the linked file. However, removing a symbolic link deletes the link itself."
   ]
  },
  {
   "cell_type": "markdown",
   "id": "86f4466f",
   "metadata": {},
   "source": [
    "### *CMD:* User Management"
   ]
  },
  {
   "cell_type": "markdown",
   "id": "03195e7a",
   "metadata": {},
   "source": [
    "The `/etc/passwd` file stores user information, each line containing colon-separated information about a user."
   ]
  },
  {
   "cell_type": "markdown",
   "id": "7bae47ee",
   "metadata": {},
   "source": [
    "| *Field* | *Description* |\n",
    "| :-- | :-- |\n",
    "| Username | Unique textual representation of a user.\n",
    "| Password | User's login password.\n",
    "| User ID | Unique numerical representation of a user.\n",
    "| Primary Group ID | User's primary group ID.\n",
    "| User Information | User's information (e.g: full name, etc).\n",
    "| Home Directory | User's home directory path.\n",
    "| Login Shell | User's login shell path."
   ]
  },
  {
   "cell_type": "markdown",
   "id": "1b07cefe",
   "metadata": {},
   "source": [
    "*Note:* In the password field, `x` denotes a hashed password, residing in the `/etc/shadow` file."
   ]
  },
  {
   "cell_type": "markdown",
   "id": "48c1b214",
   "metadata": {},
   "source": [
    "The `/etc/shadow` file stores passwords for users, along with extra information."
   ]
  },
  {
   "cell_type": "markdown",
   "id": "20bc0002",
   "metadata": {},
   "source": [
    "| *Field* | *Description* |\n",
    "| :-- | :-- |\n",
    "| Username | Name of the user.\n",
    "| Password | Hashed password of the user.\n",
    "| Others | Different fields that control the password expiry, and account lockout features."
   ]
  },
  {
   "cell_type": "markdown",
   "id": "d8d59fff",
   "metadata": {},
   "source": [
    "*Note:* In the password field, `*` means that login is disabled for a user, `!` means that user has not yet been assigned a password, and nothing indicates that a password is not required for login."
   ]
  },
  {
   "cell_type": "markdown",
   "id": "6ae13833",
   "metadata": {},
   "source": [
    "The `/etc/group` file stores information about groups."
   ]
  },
  {
   "cell_type": "markdown",
   "id": "c445d2c4",
   "metadata": {},
   "source": [
    "| *Field* | *Description* |\n",
    "| :-- | :-- |\n",
    "| Group | Unique textual representation of a group.\n",
    "| Password | (*Unused feature*)\n",
    "| Group ID | Unique numerical representation of a group.\n",
    "| Users | Usernames of users belonging to the group, comma-delimited."
   ]
  },
  {
   "cell_type": "markdown",
   "id": "e4dbdf83",
   "metadata": {},
   "source": [
    "When executing `ls -l`, *file attributes* display the *read-write-execute* permissions of the user owner of the file, the group owner of the file, and everyone else."
   ]
  },
  {
   "cell_type": "markdown",
   "id": "d5733263",
   "metadata": {},
   "source": [
    "| *Type* | *Permission* | *Description* |\n",
    "| :-- | :-- | :-- |\n",
    "| `-` | `r` | File can be read from.\n",
    "|  | `w` | File can be written to.\n",
    "|  | `x` | File can be executed.\n",
    "| `d` | `r` | Allows directory contents to be displayed, requires `x`.\n",
    "|  | `w` | Allows directory contents to be modified, requires `x`.\n",
    "|  | `x` | Allows directory to be entered (e.g: using `cd`)."
   ]
  },
  {
   "cell_type": "markdown",
   "id": "4e553d5a",
   "metadata": {},
   "source": [
    "*Note:* Scripts, executed directly with the aid of a shebang, require `x` as well `r` to be executed.\n",
    "\n",
    "*Note:* Modifying directory contents includes creating, renaming, and deleting files."
   ]
  },
  {
   "cell_type": "markdown",
   "id": "a8a185e7",
   "metadata": {},
   "source": [
    "#### `id`"
   ]
  },
  {
   "cell_type": "markdown",
   "id": "169c6849",
   "metadata": {},
   "source": [
    "`id` is a file-system command that displays the currently logged in user, his primary group, as well as secondary groups."
   ]
  },
  {
   "cell_type": "code",
   "execution_count": null,
   "id": "e8157591",
   "metadata": {},
   "outputs": [],
   "source": [
    "id"
   ]
  },
  {
   "cell_type": "markdown",
   "id": "a94c32fb",
   "metadata": {},
   "source": [
    "*Note:* `id username` reveals the same information for the specified user, which may be different from the currently logged in user."
   ]
  },
  {
   "cell_type": "markdown",
   "id": "9625a108",
   "metadata": {},
   "source": [
    "#### `chmod`"
   ]
  },
  {
   "cell_type": "markdown",
   "id": "b92be800",
   "metadata": {},
   "source": [
    "`chmod` is a file-system command that allows a user to change permissions on a file he owns."
   ]
  },
  {
   "cell_type": "code",
   "execution_count": null,
   "id": "e6d754f8",
   "metadata": {},
   "outputs": [],
   "source": [
    "chmod YYYY file-path"
   ]
  },
  {
   "cell_type": "markdown",
   "id": "62906319",
   "metadata": {},
   "source": [
    "*Note:* Each `Y` in a `chmod` command is an octat digit, each bit representing the `rwx` permissions for user owner, group owner, or *world* permissions, with the first digit representing the *setuid*, *setgid* and *sticky* bits, respectively, discussed later."
   ]
  },
  {
   "cell_type": "markdown",
   "id": "06c33a63",
   "metadata": {},
   "source": [
    "#### `umask`"
   ]
  },
  {
   "cell_type": "markdown",
   "id": "ea7ab258",
   "metadata": {},
   "source": [
    "`umask` is a shell built-in that masks the default permissions of files and directories, as they are created, for the current user."
   ]
  },
  {
   "cell_type": "code",
   "execution_count": null,
   "id": "a34b2a91",
   "metadata": {},
   "outputs": [],
   "source": [
    "umask                       # Displays the current set mask"
   ]
  },
  {
   "cell_type": "code",
   "execution_count": null,
   "id": "ce31ca02",
   "metadata": {},
   "outputs": [],
   "source": [
    "umask YYYY                  # Sets 'YYYY' as the current mask, valid only for the current session"
   ]
  },
  {
   "cell_type": "markdown",
   "id": "13d3dd7b",
   "metadata": {},
   "source": [
    "#### `su`"
   ]
  },
  {
   "cell_type": "markdown",
   "id": "780009b5",
   "metadata": {},
   "source": [
    "`su` is a file-system command that allows opening a new shell, as another user."
   ]
  },
  {
   "cell_type": "code",
   "execution_count": null,
   "id": "d9501284",
   "metadata": {},
   "outputs": [],
   "source": [
    "su username"
   ]
  },
  {
   "cell_type": "markdown",
   "id": "1fd2e5ec",
   "metadata": {},
   "source": [
    "| *Option* | *Description* |\n",
    "| :-- | :-- |\n",
    "| `-l` or `-` | Open a login shell (e.g: load the user's environment)\n",
    "| `-c command` | Run a single command, instead. "
   ]
  },
  {
   "cell_type": "markdown",
   "id": "87d5f3ac",
   "metadata": {},
   "source": [
    "*Note:* To logout from the current shell, reverting back to the parent shell, if existing, use the `exit` shell built-in."
   ]
  },
  {
   "cell_type": "markdown",
   "id": "05cc7300",
   "metadata": {},
   "source": [
    "#### `sudo`"
   ]
  },
  {
   "cell_type": "markdown",
   "id": "51bb0447",
   "metadata": {},
   "source": [
    "`sudo` is a file-system command that allows users to execute commands as other users."
   ]
  },
  {
   "cell_type": "code",
   "execution_count": null,
   "id": "ff2c0f81",
   "metadata": {},
   "outputs": [],
   "source": [
    "sudo command"
   ]
  },
  {
   "cell_type": "markdown",
   "id": "7bb8f91c",
   "metadata": {},
   "source": [
    "*Note:* Unlike `su username -l -c command`, the `sudo` command prompts the user to type in his own password."
   ]
  },
  {
   "cell_type": "markdown",
   "id": "3682ce07",
   "metadata": {},
   "source": [
    "| *Option* | *Description* |\n",
    "| :-- | :-- |\n",
    "| `-u username` | Run command as the specified user.\n",
    "| `-g group-name` | Run command as the specified group."
   ]
  },
  {
   "cell_type": "markdown",
   "id": "f465631f",
   "metadata": {},
   "source": [
    "In the `/etc/sudoers` file, lines with the following syntax control the behavior of the `sudo` command."
   ]
  },
  {
   "cell_type": "code",
   "execution_count": null,
   "id": "9b623664",
   "metadata": {},
   "outputs": [],
   "source": [
    "    # A `username` may execute on `hostname` as `username` or `group-name`, specified `command-name`.\n",
    "\n",
    "username hostname=(username:group-name) command-name"
   ]
  },
  {
   "cell_type": "code",
   "execution_count": null,
   "id": "5c4aa572",
   "metadata": {},
   "outputs": [],
   "source": [
    "    # A `group-name` ...\n",
    "\n",
    "%group-name ..."
   ]
  },
  {
   "cell_type": "markdown",
   "id": "ff6395bb",
   "metadata": {},
   "source": [
    "*Note:* `ALL` may replace all fields in the above line, allowing the matching of any."
   ]
  },
  {
   "cell_type": "markdown",
   "id": "61f4cfbc",
   "metadata": {},
   "source": [
    "#### `chown`"
   ]
  },
  {
   "cell_type": "markdown",
   "id": "f7174603",
   "metadata": {},
   "source": [
    "`chown` is a file-system command that allows changing the user owner or group owner of a file."
   ]
  },
  {
   "cell_type": "code",
   "execution_count": null,
   "id": "65471351",
   "metadata": {},
   "outputs": [],
   "source": [
    "chown username file-path"
   ]
  },
  {
   "cell_type": "code",
   "execution_count": null,
   "id": "d1b2bf19",
   "metadata": {},
   "outputs": [],
   "source": [
    "chown :groupname file-path"
   ]
  },
  {
   "cell_type": "code",
   "execution_count": null,
   "id": "7b767171",
   "metadata": {},
   "outputs": [],
   "source": [
    "chown username:groupname file-path"
   ]
  },
  {
   "cell_type": "markdown",
   "id": "f08ae9b1",
   "metadata": {},
   "source": [
    "*Note:* Only the owner of a file, or the `root` user, may use `chown` on the file."
   ]
  },
  {
   "cell_type": "markdown",
   "id": "592ca07c",
   "metadata": {},
   "source": [
    "#### `passwd`"
   ]
  },
  {
   "cell_type": "markdown",
   "id": "62ee46a5",
   "metadata": {},
   "source": [
    "`passwd` is a file-system command that allows a user to change his own password."
   ]
  },
  {
   "cell_type": "code",
   "execution_count": null,
   "id": "59e5c1f4",
   "metadata": {},
   "outputs": [],
   "source": [
    "passwd"
   ]
  },
  {
   "cell_type": "markdown",
   "id": "aeab93be",
   "metadata": {},
   "source": [
    "*Note:* The `root` user may change any user's password, using `passwd username`."
   ]
  },
  {
   "cell_type": "markdown",
   "id": "bc5603d1",
   "metadata": {},
   "source": [
    "#### `useradd`"
   ]
  },
  {
   "cell_type": "markdown",
   "id": "6d472ae8",
   "metadata": {},
   "source": [
    "`useradd` is a file-system command that allows the creation of a new user, by the `root` user."
   ]
  },
  {
   "cell_type": "code",
   "execution_count": null,
   "id": "1ef0614b",
   "metadata": {},
   "outputs": [],
   "source": [
    "useradd username"
   ]
  },
  {
   "cell_type": "markdown",
   "id": "e205ff96",
   "metadata": {},
   "source": [
    "| *Option* | *Description* |\n",
    "| :-- | :-- |\n",
    "| `-m` | Create user's home directory.\n",
    "| `-g group-name` | Specifies user's primary group.\n",
    "| `-G group-name-1,group-name-2,...` | Specifies user's secondary groups."
   ]
  },
  {
   "cell_type": "markdown",
   "id": "4050dac5",
   "metadata": {},
   "source": [
    "*Note:* Analogous to `useradd`, `groupadd` creates a new group."
   ]
  },
  {
   "cell_type": "markdown",
   "id": "9c80c1db",
   "metadata": {},
   "source": [
    "#### `userdel`"
   ]
  },
  {
   "cell_type": "markdown",
   "id": "c0891e4d",
   "metadata": {},
   "source": [
    "`userdel` is a file-system command that allows the deletion of an existing user, by the `root` user."
   ]
  },
  {
   "cell_type": "code",
   "execution_count": null,
   "id": "ce6c7f36",
   "metadata": {},
   "outputs": [],
   "source": [
    "userdel username"
   ]
  },
  {
   "cell_type": "markdown",
   "id": "ebca37f7",
   "metadata": {},
   "source": [
    "| *Option* | *Description* |\n",
    "| :-- | :-- |\n",
    "| `-r` | Remove user's home directory."
   ]
  },
  {
   "cell_type": "markdown",
   "id": "876d3038",
   "metadata": {},
   "source": [
    "*Note:* Analogous to `userdel`, `groupdel` deletes an existing group."
   ]
  },
  {
   "cell_type": "markdown",
   "id": "5e5627af",
   "metadata": {},
   "source": [
    "#### `usermod`"
   ]
  },
  {
   "cell_type": "markdown",
   "id": "cec10f2e",
   "metadata": {},
   "source": [
    "`usermod` is a file-system command that allows the modification of user information."
   ]
  },
  {
   "cell_type": "code",
   "execution_count": null,
   "id": "1b07089b",
   "metadata": {
    "scrolled": true
   },
   "outputs": [],
   "source": [
    "usermod username ..."
   ]
  },
  {
   "cell_type": "markdown",
   "id": "45eddd0b",
   "metadata": {},
   "source": [
    "| *Option* | *Description* |\n",
    "| :-- | :-- |\n",
    "| `-g` | Specifies user's primary group.\n",
    "| `-G` | Specifies user's secondary groups, comma-delimited.\n",
    "| `-a` | Combined with `-G`, appends to the current secondary groups."
   ]
  },
  {
   "cell_type": "markdown",
   "id": "5fc5a8df",
   "metadata": {},
   "source": [
    "### *CMD:* Process Management"
   ]
  },
  {
   "cell_type": "markdown",
   "id": "cbca2662",
   "metadata": {},
   "source": [
    "Each process is allocated a unique identification number, called *Process ID (PID)*.\n",
    "\n",
    "Information about any running process can be read from `/proc/pid/status` (e.g: `/proc/31923/status`).\n",
    "\n",
    "Each process has several user IDs associated with."
   ]
  },
  {
   "cell_type": "markdown",
   "id": "c67fa80d",
   "metadata": {},
   "source": [
    "| *ID* | *Description* |\n",
    "| :-- | :-- |\n",
    "| User | User owner of a process, typically who ran the process first.\n",
    "| Effective User | Effective user owner of a process, where permissions required to access files, <br> and other system resources, stem from."
   ]
  },
  {
   "cell_type": "markdown",
   "id": "09996194",
   "metadata": {},
   "source": [
    "*Note:* When running the `sudo` command, a new process is assigned the *UID* of the other user as its *EUID*.\n",
    "\n",
    "*Note:* Each process is also assigned a group ID, and an effective group ID.\n",
    "\n",
    "*Note:* `/proc/` is a virtual file-system, populated by pseudo-files, relevant to the operation of the kernel."
   ]
  },
  {
   "cell_type": "markdown",
   "id": "3e06d2ed",
   "metadata": {},
   "source": [
    "Three more permissions may be set on any file or directory, that transform the `x` permission."
   ]
  },
  {
   "cell_type": "markdown",
   "id": "97faf021",
   "metadata": {},
   "source": [
    "| *Type* | *Permission* | *Transforms `x` into?* | *Description* |\n",
    "| :-- | :-- | :-- | :-- |\n",
    "| `-` | `setuid` | `s` | When executed, process inherits the permissions of the user owner of the file.\n",
    "|  | `setgid` | `s` | When executed, process inherits the permissions of the group owner of the file.\n",
    "|  | `sticky` | `t` | Only user owner may rename, modify, and delete file.\n",
    "| `d` | `setuid` | `s` | (*Unused feature*)\n",
    "|  | `setgid` | `s` | Files created within inherit the group owner of the directory, rather than the primary group of the process. <br> Sub-directories created within inherit the `setgid` bit.\n",
    "|  | `sticky` | `t` | Only user owner may rename, modify and delete directory, and its contents."
   ]
  },
  {
   "cell_type": "markdown",
   "id": "5d720b30",
   "metadata": {},
   "source": [
    "*Note:* Typically, the `setgid` permission is set for shared directories."
   ]
  },
  {
   "cell_type": "markdown",
   "id": "16f1195d",
   "metadata": {},
   "source": [
    "#### `jobs`, `fg` and `kill`"
   ]
  },
  {
   "cell_type": "markdown",
   "id": "9cbf9604",
   "metadata": {},
   "source": [
    "To execute a command in the *background* , append `&` to the command line. "
   ]
  },
  {
   "cell_type": "code",
   "execution_count": null,
   "id": "35563834",
   "metadata": {},
   "outputs": [],
   "source": [
    "command -options arguments &"
   ]
  },
  {
   "cell_type": "markdown",
   "id": "8ecd3104",
   "metadata": {},
   "source": [
    "`jobs` is a shell built-in command that displays the currently executing processes in the background, in the current shell."
   ]
  },
  {
   "cell_type": "code",
   "execution_count": null,
   "id": "71021711",
   "metadata": {},
   "outputs": [],
   "source": [
    "jobs -l                      # `-l` shows `PID` for each process"
   ]
  },
  {
   "cell_type": "markdown",
   "id": "506837d3",
   "metadata": {},
   "source": [
    "`fg` is a shell built-in command that brings a background process into the foreground of the shell."
   ]
  },
  {
   "cell_type": "code",
   "execution_count": null,
   "id": "be213378",
   "metadata": {},
   "outputs": [],
   "source": [
    "fg %process-number"
   ]
  },
  {
   "cell_type": "code",
   "execution_count": null,
   "id": "43bc5f14",
   "metadata": {},
   "outputs": [],
   "source": [
    "fg pid"
   ]
  },
  {
   "cell_type": "markdown",
   "id": "66f0c3fd",
   "metadata": {},
   "source": [
    "`kill` is a shell built-in command that sends a signal to a process."
   ]
  },
  {
   "cell_type": "code",
   "execution_count": null,
   "id": "eb85c657",
   "metadata": {},
   "outputs": [],
   "source": [
    "kill -SIGNAL %process-number"
   ]
  },
  {
   "cell_type": "code",
   "execution_count": null,
   "id": "dda28d8d",
   "metadata": {},
   "outputs": [],
   "source": [
    "kill -SIGNAL pid"
   ]
  },
  {
   "cell_type": "markdown",
   "id": "441b4b61",
   "metadata": {},
   "source": [
    "A *signal* is a special event, sent by the OS to a running process, that may be handled or ignored by the process."
   ]
  },
  {
   "cell_type": "markdown",
   "id": "65c9f090",
   "metadata": {},
   "source": [
    "| *Signal* | *Shortcut* | *Description* |\n",
    "| :-- | :-- | :-- |\n",
    "| `INT` | `Ctrl` + `C` | Ask to interrupt a process.\n",
    "| `TERM` | None | Ask to terminate a process.\n",
    "| `TSTP` | `Ctrl` + `Z` | Ask to stop a process.\n",
    "| `WINCH` | None | Notifies process of window resize.\n",
    "| `SEGV` | None | Notifies process of illegal use of memory."
   ]
  },
  {
   "cell_type": "markdown",
   "id": "46c09841",
   "metadata": {},
   "source": [
    "Some signals are sent to the kernel itself, about a specific process, and hence, cannot be ignored."
   ]
  },
  {
   "cell_type": "markdown",
   "id": "bb22729c",
   "metadata": {},
   "source": [
    "| *Signal* | *Shortcut* | *Description* |\n",
    "| :-- | :-- | :-- |\n",
    "| `KILL` | None | Terminate a process.\n",
    "| `STOP` | None | Stop a process.\n",
    "| `CONT` | None | Continue a process."
   ]
  },
  {
   "cell_type": "markdown",
   "id": "4227e921",
   "metadata": {},
   "source": [
    "#### `ps`"
   ]
  },
  {
   "cell_type": "markdown",
   "id": "5ff41fc2",
   "metadata": {},
   "source": [
    "`ps` is a file-system command that displays information about processes."
   ]
  },
  {
   "cell_type": "code",
   "execution_count": null,
   "id": "5ea1e51a",
   "metadata": {},
   "outputs": [],
   "source": [
    "ps aux                 # Displays all processes"
   ]
  },
  {
   "cell_type": "markdown",
   "id": "183c2c76",
   "metadata": {},
   "source": [
    "| *Option* | *Description* |\n",
    "| :-- | :-- |\n",
    "| `--sort=criteria` | Sort by specified criteria (e.g: `pcpu`, `pmem`, `start_time`).\n",
    "| `--forest` | Display processes as a tree."
   ]
  },
  {
   "cell_type": "markdown",
   "id": "2dbbe4fa",
   "metadata": {},
   "source": [
    "### *CMD:* Package Management"
   ]
  },
  {
   "cell_type": "markdown",
   "id": "a00aec9b",
   "metadata": {},
   "source": [
    "A *package management* system enables the management of software installation, maintenance, and removal.\n",
    "\n",
    "Different Linux Distributions use different packaging systems (e.g: Debian uses `.deb` packages)."
   ]
  },
  {
   "cell_type": "markdown",
   "id": "e4038e37",
   "metadata": {},
   "source": [
    "#### `apt`"
   ]
  },
  {
   "cell_type": "markdown",
   "id": "4c053f80",
   "metadata": {},
   "source": [
    "`apt` is a file-system command, a high-level package management tool for debian-based distros.\n",
    "\n",
    "To query repositories, listed in `/etc/apt/sources.list*`, about all recently available packages,"
   ]
  },
  {
   "cell_type": "code",
   "execution_count": null,
   "id": "4ee5123b",
   "metadata": {},
   "outputs": [],
   "source": [
    "apt update"
   ]
  },
  {
   "cell_type": "markdown",
   "id": "25715116",
   "metadata": {},
   "source": [
    "To show information about a package from the queried repositories,"
   ]
  },
  {
   "cell_type": "code",
   "execution_count": null,
   "id": "fba591cf",
   "metadata": {},
   "outputs": [],
   "source": [
    "apt show package-name"
   ]
  },
  {
   "cell_type": "markdown",
   "id": "32585c61",
   "metadata": {},
   "source": [
    "To install a package from the queries repositories,"
   ]
  },
  {
   "cell_type": "code",
   "execution_count": null,
   "id": "a67e2c4e",
   "metadata": {},
   "outputs": [],
   "source": [
    "apt install package-name"
   ]
  },
  {
   "cell_type": "markdown",
   "id": "d5e67d0a",
   "metadata": {},
   "source": [
    "*Note:* When installing packages, `apt` also installs any dependency packages, recursively.\n",
    "\n",
    "*Note:* `apt depends package-name` may be used to display direct dependencies of a specific package.\n",
    "\n",
    "*Note:* Executing `apt install package-name` on an existing package will attempt to upgrade it.\n",
    "\n",
    "*Note:* `apt install PATH/package-file.deb` installs a package from a local `.deb` file."
   ]
  },
  {
   "cell_type": "markdown",
   "id": "fd109dd8",
   "metadata": {},
   "source": [
    "To remove an installed package,"
   ]
  },
  {
   "cell_type": "code",
   "execution_count": null,
   "id": "e51ae977",
   "metadata": {},
   "outputs": [],
   "source": [
    "apt remove package-name"
   ]
  },
  {
   "cell_type": "markdown",
   "id": "fdb9eebe",
   "metadata": {},
   "source": [
    "*Note:* `apt purge package-name` removes an installed package, as well as any configuration files associated with. However, configuration files under `/home/` are not removed.\n",
    "\n",
    "*Note:* `apt autoremove` attempts to remove any packages that were installed as dependencies and are no longer required."
   ]
  },
  {
   "cell_type": "markdown",
   "id": "dcaad154",
   "metadata": {},
   "source": [
    "#### `dpkg`"
   ]
  },
  {
   "cell_type": "markdown",
   "id": "7c2fb07d",
   "metadata": {},
   "source": [
    "`dpkg` is a file-system command, a low-level package management tool for debian-based distros.\n",
    "\n",
    "To check if a package is installed,"
   ]
  },
  {
   "cell_type": "code",
   "execution_count": null,
   "id": "4839c090",
   "metadata": {},
   "outputs": [],
   "source": [
    "dpkg -s package-name"
   ]
  },
  {
   "cell_type": "markdown",
   "id": "cf92bd96",
   "metadata": {},
   "source": [
    "### *CMD:* Device Management"
   ]
  },
  {
   "cell_type": "markdown",
   "id": "be8a0324",
   "metadata": {},
   "source": [
    "All connected devices are represented as special pseudo-files, called *device files*, under the virtual file system `/dev`.\n",
    "\n",
    "A device file is a special type of file, and not a regular file (e.g: represented with `-` or `f`).\n",
    "* A *block device* provides buffered, abstracted access to the hardware device, allowing communication to occur in blocks.\n",
    "* A *character device file* provides unbuffered, direct access to the hardware device, allowing communication to occur in bytes."
   ]
  },
  {
   "cell_type": "markdown",
   "id": "3210ac25",
   "metadata": {},
   "source": [
    "| *Type* | *Symbol* | *Examples*\n",
    "| :-- | :-- | :-- |\n",
    "| Block | `b` | USB Flash Drive, SSD Disk\n",
    "| Character | `c` | Keyboard, Mouse"
   ]
  },
  {
   "cell_type": "markdown",
   "id": "e4702017",
   "metadata": {},
   "source": [
    "#### `lsblk`"
   ]
  },
  {
   "cell_type": "markdown",
   "id": "3221fadc",
   "metadata": {},
   "source": [
    "Most Linux distros auto-mount a connecting storage drive under the virtual file system `/media/`.\n",
    "\n",
    "`lsblk` is a file-system command that lists currently connected block devices (e.g: any storage drive), and the corresponding mount-point for each parition."
   ]
  },
  {
   "cell_type": "markdown",
   "id": "85e3027e",
   "metadata": {},
   "source": [
    "lsblk"
   ]
  },
  {
   "cell_type": "markdown",
   "id": "8de80ccb",
   "metadata": {},
   "source": [
    "#### `mount` and `umount`"
   ]
  },
  {
   "cell_type": "markdown",
   "id": "48264a2a",
   "metadata": {},
   "source": [
    "`mount` and `unmount` are file-system commands that manage the mounting of file systems to the root file system."
   ]
  },
  {
   "cell_type": "code",
   "execution_count": null,
   "id": "37b8198c",
   "metadata": {},
   "outputs": [],
   "source": [
    "mount /dev/partition-name PATH              # Mount connected device parition (e.g: '/dev/sdb1') \n",
    "                                            #   to a mount point (e.g: '~/flash/')  "
   ]
  },
  {
   "cell_type": "code",
   "execution_count": null,
   "id": "88bf762e",
   "metadata": {},
   "outputs": [],
   "source": [
    "umount /dev/partition-name                  # Unmount connected device partition"
   ]
  },
  {
   "cell_type": "markdown",
   "id": "91d81a09",
   "metadata": {},
   "source": [
    "*Note:* `umount` will refuse to unmount a busy device, and hence, should be called before disconnecting a storage drive."
   ]
  },
  {
   "cell_type": "markdown",
   "id": "75fb4e56",
   "metadata": {},
   "source": [
    "### *CMD:* Text Processing"
   ]
  },
  {
   "cell_type": "markdown",
   "id": "6f055d82",
   "metadata": {},
   "source": [
    "There are several useful shortcuts that the bash shell supports."
   ]
  },
  {
   "cell_type": "markdown",
   "id": "e60e8264",
   "metadata": {},
   "source": [
    "| *Shortcut* | *Description* |\n",
    "| :-- | :-- |\n",
    "| `Ctrl` + `L` | Clear the terminal screen.\n",
    "| `Ctrl` + `A` | Jump to the beginning of the command line.\n",
    "| `Ctrl` + `E` | Jump to the end of the command line.\n",
    "| ㅤ |\n",
    "| `Alt` + `F` | Jump to the next word in the command line.\n",
    "| `Alt` + `B` | Jump to the previous word in the command line.\n",
    "| ㅤ |\n",
    "| `Ctrl` + `Shift` + `C` | Copy the highlighted text, into the clipboard.\n",
    "| `Ctrl` + `Shift` + `V` | Paste text, from the clipboard, at the blinking character."
   ]
  },
  {
   "cell_type": "markdown",
   "id": "e6e85d60",
   "metadata": {},
   "source": [
    "#### `echo`"
   ]
  },
  {
   "cell_type": "markdown",
   "id": "84b1c32a",
   "metadata": {},
   "source": [
    "`echo` is a shell-builtin that echoes whatever is passed onto onto *stdout*."
   ]
  },
  {
   "cell_type": "code",
   "execution_count": null,
   "id": "4237e125",
   "metadata": {},
   "outputs": [],
   "source": [
    "echo Hi, how're you?                   # Displays 'Hi, how're you?'"
   ]
  },
  {
   "cell_type": "markdown",
   "id": "621243e9",
   "metadata": {},
   "source": [
    "#### `cat`"
   ]
  },
  {
   "cell_type": "markdown",
   "id": "b9ab6be3",
   "metadata": {},
   "source": [
    "`cat` is a file-system command that echoes the contents of a file onto *stdout*."
   ]
  },
  {
   "cell_type": "code",
   "execution_count": null,
   "id": "36a739a9",
   "metadata": {},
   "outputs": [],
   "source": [
    "cat path/filename"
   ]
  },
  {
   "cell_type": "markdown",
   "id": "4d4a2a01",
   "metadata": {},
   "source": [
    "#### `grep`"
   ]
  },
  {
   "cell_type": "markdown",
   "id": "6418e7af",
   "metadata": {},
   "source": [
    "`grep` is a file-system command that matches lines in a text file, using regular expressions."
   ]
  },
  {
   "cell_type": "code",
   "execution_count": null,
   "id": "c54ac567",
   "metadata": {},
   "outputs": [],
   "source": [
    "grep regex path/filename"
   ]
  },
  {
   "cell_type": "code",
   "execution_count": null,
   "id": "eadc57ca",
   "metadata": {},
   "outputs": [],
   "source": [
    "... | grep regex"
   ]
  },
  {
   "cell_type": "markdown",
   "id": "db7544ea",
   "metadata": {},
   "source": [
    "| *Option* | *Description* |\n",
    "| :-- | :-- |\n",
    "| `-P` | Use Perl-compatible regular expressions (similar to Python's).\n",
    "| `-i` | Perform case-insensitive matching.\n",
    "| `-v` | Invert matching.\n",
    "| `-c` | Print number of matching lines."
   ]
  },
  {
   "cell_type": "markdown",
   "id": "eca1fce5",
   "metadata": {},
   "source": [
    "#### `sort`"
   ]
  },
  {
   "cell_type": "markdown",
   "id": "a3a71df5",
   "metadata": {},
   "source": [
    "`sort` is a file-system command that sorts lines in a text file."
   ]
  },
  {
   "cell_type": "code",
   "execution_count": null,
   "id": "9fefff62",
   "metadata": {},
   "outputs": [],
   "source": [
    "sort path/filename"
   ]
  },
  {
   "cell_type": "code",
   "execution_count": null,
   "id": "a4a7d47e",
   "metadata": {},
   "outputs": [],
   "source": [
    "... | sort"
   ]
  },
  {
   "cell_type": "markdown",
   "id": "fb4d7581",
   "metadata": {},
   "source": [
    "| *Option* | *Description* |\n",
    "| :-- | :-- |\n",
    "| `-f` | Perform case-insensitive sorting.\n",
    "| `-r` | Reverse the sorted lines.\n",
    "| `-n` | Perform sorting numerically, not alphabetically.\n",
    "| `-k` | Perform sorting based on a field (e.g: `-k 1` specifies first column).\n",
    "| `-t` | Combined with `-k`, specifies the field-separator string."
   ]
  },
  {
   "cell_type": "markdown",
   "id": "2096bcee",
   "metadata": {},
   "source": [
    "#### `uniq`"
   ]
  },
  {
   "cell_type": "markdown",
   "id": "5870dbb1",
   "metadata": {},
   "source": [
    "`uniq` is a file-system command that eliminates duplicate lines in a text file."
   ]
  },
  {
   "cell_type": "code",
   "execution_count": null,
   "id": "b9ad92cc",
   "metadata": {},
   "outputs": [],
   "source": [
    "uniq path/filename"
   ]
  },
  {
   "cell_type": "code",
   "execution_count": null,
   "id": "39d100ec",
   "metadata": {},
   "outputs": [],
   "source": [
    "... | uniq"
   ]
  },
  {
   "cell_type": "markdown",
   "id": "43c23347",
   "metadata": {},
   "source": [
    "| *Option* | *Description* |\n",
    "| :-- | :-- |\n",
    "| `-f` | Precedes the resulting lines with the number of occurences.\n",
    "| `-i` | Performs case-insensitive comparison between lines.\n",
    "| `-u` | Output unique lines only.\n",
    "| `-d` | Output duplicate lines only."
   ]
  },
  {
   "cell_type": "code",
   "execution_count": null,
   "id": "4e257a55",
   "metadata": {},
   "outputs": [],
   "source": []
  }
 ],
 "metadata": {
  "kernelspec": {
   "display_name": "Python 3 (ipykernel)",
   "language": "python",
   "name": "python3"
  },
  "language_info": {
   "codemirror_mode": {
    "name": "ipython",
    "version": 3
   },
   "file_extension": ".py",
   "mimetype": "text/x-python",
   "name": "python",
   "nbconvert_exporter": "python",
   "pygments_lexer": "ipython3",
   "version": "3.8.10"
  }
 },
 "nbformat": 4,
 "nbformat_minor": 5
}
