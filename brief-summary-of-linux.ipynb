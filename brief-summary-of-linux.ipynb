{
 "cells": [
  {
   "cell_type": "markdown",
   "id": "ed6f142c",
   "metadata": {},
   "source": [
    "# A brief summary of *Linux*\n",
    "<br>\n",
    "<div style=\"opacity: 0.8; font-family: Consolas, Monaco, Lucida Console, Liberation Mono, DejaVu Sans Mono, Bitstream Vera Sans Mono, Courier New; font-size: 12px; font-style: italic;\">\n",
    "    ────────\n",
    "    for more from the author, visit\n",
    "    <a href=\"https://github.com/hazemanwer2000\">github.com/hazemanwer2000</a>.\n",
    "    ────────\n",
    "</div>"
   ]
  },
  {
   "cell_type": "markdown",
   "id": "0d460fa1",
   "metadata": {},
   "source": [
    "## Table of Contents\n",
    "* [*Bash* Shell](#)\n",
    "    * [The Basics](#)\n",
    "        * [Commands](#)\n",
    "        * [Variables](#)\n",
    "        * [Scripts](#)\n",
    "        * [*Redirection*](#)\n",
    "        * [*Expansion*](#)\n",
    "        * [Other Tricks](#)\n",
    "    * [Scripting](#)\n",
    "        * [Working with Variables](#)\n",
    "        * [Working with Functions](#)\n",
    "        * [Working with `if`](#)\n",
    "        * [Working with `while`](#)\n",
    "        * [Working with `case`](#)\n",
    "        * [Working with `for`](#)\n",
    "        * [String Manipulation](#)\n",
    "        * [Arrays](#)\n",
    "        * [User Input](#)\n",
    "\n",
    "<hr>"
   ]
  },
  {
   "cell_type": "markdown",
   "id": "5d578484",
   "metadata": {},
   "source": [
    "## *Bash* Shell <a class=\"anchor\" id=\"\"></a>"
   ]
  },
  {
   "cell_type": "markdown",
   "id": "71d3d81c",
   "metadata": {},
   "source": [
    "In most Linux systems, the default shell is *bash*."
   ]
  },
  {
   "cell_type": "markdown",
   "id": "6837c4c3",
   "metadata": {},
   "source": [
    "### The Basics"
   ]
  },
  {
   "cell_type": "markdown",
   "id": "8c77311f",
   "metadata": {},
   "source": [
    "#### Commands"
   ]
  },
  {
   "cell_type": "markdown",
   "id": "72d9d407",
   "metadata": {},
   "source": [
    "A shell command may be one of five types.\n",
    "\n",
    "1. An *alias*, to another command.\n",
    "2. A reserved word, such as `while`, `case`, and similar programming constructs.\n",
    "3. A *function*, an alias to a set of commands to be executed together, possibly accepting arguments.\n",
    "4. A shell built-in, a command built into the shell itself.\n",
    "5. A file-system command, stored and executed from the file system.\n",
    "\n",
    "*Note:* The shell checks for commands in the above order, which allows for an alias, or a function and a command to match in naming.\n",
    "\n",
    "*Note:* A file-system command is searched for in colon-separated directories, left-to-right, defined in the `$PATH` environment variable, discussed later.\n",
    "\n",
    "*Note:* The exit status of the last executed command may be accessed using a special variable, `$?`, discussed later. For piped commands, discussed later, use the shell array variable `$PIPESTATUS`."
   ]
  },
  {
   "cell_type": "markdown",
   "id": "e60d2d8e",
   "metadata": {},
   "source": [
    "To check the type of a command,"
   ]
  },
  {
   "cell_type": "code",
   "execution_count": null,
   "id": "7e8e7e03",
   "metadata": {},
   "outputs": [],
   "source": [
    "type -a command-name          # 'type' is a shell built-in"
   ]
  },
  {
   "cell_type": "markdown",
   "id": "022d4a4e",
   "metadata": {},
   "source": [
    "To define a new alias,"
   ]
  },
  {
   "cell_type": "code",
   "execution_count": null,
   "id": "b6f5c820",
   "metadata": {},
   "outputs": [],
   "source": [
    "alias name=\"command with options and arguments\""
   ]
  },
  {
   "cell_type": "markdown",
   "id": "c0b86c9b",
   "metadata": {},
   "source": [
    "To get help for the shell built-in,"
   ]
  },
  {
   "cell_type": "code",
   "execution_count": null,
   "id": "cc1ac36e",
   "metadata": {},
   "outputs": [],
   "source": [
    "help command-name             # 'help' is a shell-built-in "
   ]
  },
  {
   "cell_type": "markdown",
   "id": "5ef38b18",
   "metadata": {},
   "source": [
    "To get help on a Linux file-system command, consult the offline manual pages,"
   ]
  },
  {
   "cell_type": "code",
   "execution_count": null,
   "id": "15253ac3",
   "metadata": {},
   "outputs": [],
   "source": [
    "man -f command-name                       # Returns the section number a command is described in"
   ]
  },
  {
   "cell_type": "code",
   "execution_count": null,
   "id": "92e50889",
   "metadata": {},
   "outputs": [],
   "source": [
    "man section-number command-name           # Shows the description of a command in a specific section"
   ]
  },
  {
   "cell_type": "markdown",
   "id": "78284b1c",
   "metadata": {},
   "source": [
    "#### Variables"
   ]
  },
  {
   "cell_type": "markdown",
   "id": "a727377a",
   "metadata": {},
   "source": [
    "Every shell session has *variables* associated with it, that store useful information. A subset of those are exported to any shells opened from the current shell, called *environment variables*."
   ]
  },
  {
   "cell_type": "markdown",
   "id": "b44beeb6",
   "metadata": {},
   "source": [
    "*Note:* Similarly, defined functions may be exported to any shells opened from the current shell, discussed later."
   ]
  },
  {
   "cell_type": "markdown",
   "id": "0661c4da",
   "metadata": {},
   "source": [
    "#### Scripts"
   ]
  },
  {
   "cell_type": "markdown",
   "id": "1556dfbc",
   "metadata": {},
   "source": [
    "A *script* is a file that lists a series of commands, line by line, to be executed.\n",
    "\n",
    "Different script files are executed, by default, at different stages.\n",
    "\n",
    "| *Path* | *Description* |\n",
    "| :-- | :-- |\n",
    "| `/etc/profile` | Executed for every new login shell, for all users.\n",
    "| `~/.bash_profile` | Executed for every new login shell, for the corresponding user.\n",
    "| `~/.bash_logout` | Executed for every exit from a login shell, for the corresponding user.\n",
    "| ㅤ |\n",
    "| `/etc/bashrc` | Executed for every new shell, for all users.\n",
    "| `~/.bashrc` | Executed for every new shell, for the corresponding user."
   ]
  },
  {
   "cell_type": "markdown",
   "id": "f095b1a5",
   "metadata": {},
   "source": [
    "*Note:* A *login shell* is a shell that prompts a user for login."
   ]
  },
  {
   "cell_type": "markdown",
   "id": "d1a8ca3e",
   "metadata": {},
   "source": [
    "#### *Redirection*"
   ]
  },
  {
   "cell_type": "markdown",
   "id": "d07029fa",
   "metadata": {},
   "source": [
    "Every executing command has a standard output *(stdout)*, input *(stdin)* and error *(stderr)* associated with. By default, *stdin* is the keyboard, and *stdout(-err)* is the screen.\n",
    "\n",
    "The shell allows for the *redirection* of the *stdout*, *stdin* and *stderr*, allowing, for example, *stdout* of one command to be the *stdin* of another.\n",
    "\n",
    "| *Syntax* | *Description* |\n",
    "| :-- | :-- |\n",
    "| `cmd1 \\| cmd2` | Redirects *stdout* of `cmd1` to *stdin* of `cmd2`. |\n",
    "| ㅤ |\n",
    "| `cmd < file` | Redirects the contents of `file` to *stdin* of `cmd`. |\n",
    "| ㅤ |\n",
    "| `cmd > file` | Redirects the *stdout* of `cmd` to `file`. If it exists, file is overwritten.\n",
    "| `cmd >> file` | Redirects the *stdout* of `cmd` to `file`. If it exists, file is appended to.\n",
    "| ㅤ |\n",
    "| `cmd 2> file` | Redirects the *stderr* of `cmd` to `file`. If it exists, file is overwritten.\n",
    "| `cmd &> file` | Redirects the *stdout* and *stderr* of `cmd` to `file`. If it exists, file is overwritten."
   ]
  },
  {
   "cell_type": "markdown",
   "id": "9462d8e0",
   "metadata": {},
   "source": [
    "*Note:* *Piping*, using `|`, executes commands in a subshell, and not the current shell instance."
   ]
  },
  {
   "cell_type": "markdown",
   "id": "a4431b82",
   "metadata": {},
   "source": [
    "#### *Expansion*"
   ]
  },
  {
   "cell_type": "markdown",
   "id": "9147af0f",
   "metadata": {},
   "source": [
    "Before a command line is interpreted for execution, the shell performs different types of *expansions*."
   ]
  },
  {
   "cell_type": "markdown",
   "id": "0eae0b8f",
   "metadata": {},
   "source": [
    "| *Text* | *Expansion* |\n",
    "| :-- | :-- |\n",
    "| `$PATH` or `${PATH}` | The contents of the variable (e.g: `\\bin:\\usr\\bin`). |\n",
    "| `$(echo some text)` | The output of the command (e.g: `some text`). |\n",
    "| `$[2020 - 1957]` or `$((2020 - 1957))` | The result of the arithmetic expression (e.g: `63`). |\n",
    "| ㅤ |\n",
    "| `~` | The path of the home directory of the current user.\n",
    "| `*.txt` | All files, within the current working directory, with a `.txt` extension.\n",
    "| `{1,2,3}.txt` | Expands into `1.txt 2.txt 3.txt`."
   ]
  },
  {
   "cell_type": "markdown",
   "id": "af3c1d24",
   "metadata": {},
   "source": [
    "*Note:* In arithmetic expansions, bitwise and logical operators may be used, with various numerical bases.\n",
    "\n",
    "*Note:* Similar to `*`, `?` matches any character, and `[...]` matches a range of characters (e.g: `[a-zA-Z0-9]`, `[abc123]`). \n",
    "\n",
    "*Note:* Keep in mind that filename expansion characters do not match the first dot in a filename (e.g: `*` does not match hidden files).\n",
    "\n",
    "*Note:* `{1,2,3}` is synonymous with `{1..3}`, and `{a,b,c}` is synonymous with `{a..c}`.\n",
    "\n",
    "*Note:* Expansions occur in the following order: brace expansion, tilde expansion, variable expansion, command substitution, arithmetic expansion, and filename expansion."
   ]
  },
  {
   "cell_type": "markdown",
   "id": "af3df951",
   "metadata": {},
   "source": [
    "#### Other Tricks"
   ]
  },
  {
   "cell_type": "markdown",
   "id": "2d89962e",
   "metadata": {},
   "source": [
    "1. Commands may be separated on a single command line, using `;`."
   ]
  },
  {
   "cell_type": "code",
   "execution_count": null,
   "id": "e221f6bf",
   "metadata": {},
   "outputs": [],
   "source": [
    "command-name options arguments; echo $?            # Executes a command, then prints exit status"
   ]
  },
  {
   "cell_type": "markdown",
   "id": "a8d91b4e",
   "metadata": {},
   "source": [
    "2. Opening a `\"` without closing it, allows for the entry of a multi-line argument."
   ]
  },
  {
   "cell_type": "code",
   "execution_count": null,
   "id": "63f10e35",
   "metadata": {},
   "outputs": [],
   "source": [
    "command-name -option \"\n",
    "    Multi-Line\n",
    "    Argument\n",
    "\""
   ]
  },
  {
   "cell_type": "markdown",
   "id": "9999c280",
   "metadata": {},
   "source": [
    "3. To continue a command on another line, append the current line with `\\`."
   ]
  },
  {
   "cell_type": "code",
   "execution_count": null,
   "id": "a0d71b29",
   "metadata": {},
   "outputs": [],
   "source": [
    "command-name -option \\\n",
    "argument"
   ]
  },
  {
   "cell_type": "markdown",
   "id": "2465a52b",
   "metadata": {},
   "source": [
    "4. A *HERE* string is a string redirected to the *stdin* of a command."
   ]
  },
  {
   "cell_type": "code",
   "execution_count": null,
   "id": "f4480d59",
   "metadata": {},
   "outputs": [],
   "source": [
    "command-name -option argument <<< \"Single-Line String\""
   ]
  },
  {
   "cell_type": "code",
   "execution_count": null,
   "id": "5b58f6c0",
   "metadata": {},
   "outputs": [],
   "source": [
    "command-name -option argument <<< \"\n",
    "    Multi-Line\n",
    "    String\n",
    "\""
   ]
  },
  {
   "cell_type": "markdown",
   "id": "e967e6f0",
   "metadata": {},
   "source": [
    "*Note:* A *HERE* document is similar to a *HERE* string, that uses `<<` instead of `<<<`, and `EOF` instead of `\"`."
   ]
  },
  {
   "cell_type": "markdown",
   "id": "da24889b",
   "metadata": {},
   "source": [
    "5. Filename expansion does not occur within quotes."
   ]
  },
  {
   "cell_type": "code",
   "execution_count": null,
   "id": "dd4c5eda",
   "metadata": {},
   "outputs": [],
   "source": [
    "echo \"*\"                     # Displays '*'"
   ]
  },
  {
   "cell_type": "markdown",
   "id": "faf3b58e",
   "metadata": {},
   "source": [
    "### Scripting"
   ]
  },
  {
   "cell_type": "markdown",
   "id": "9a7e4a77",
   "metadata": {},
   "source": [
    "Every script begins with a *shebang*, denoted by `#!`, that tells the OS the path of the interpreter to execute the script."
   ]
  },
  {
   "cell_type": "code",
   "execution_count": null,
   "id": "1c75be91",
   "metadata": {},
   "outputs": [],
   "source": [
    "#!/bin/bash"
   ]
  },
  {
   "cell_type": "markdown",
   "id": "77e7f1ea",
   "metadata": {},
   "source": [
    "*Note:* The use of a shebang allows the execution of a script file, as a file-system command, instead of having to pass it to the interpreter explicitly, as `bash script-name`. This is common to all interpreted programming languages (e.g: Python)."
   ]
  },
  {
   "cell_type": "markdown",
   "id": "29bd5d8e",
   "metadata": {},
   "source": [
    "To execute commands within a script file in the current shell,"
   ]
  },
  {
   "cell_type": "code",
   "execution_count": null,
   "id": "5df33986",
   "metadata": {},
   "outputs": [],
   "source": [
    "source script-path              # 'source' is a shell built-in"
   ]
  },
  {
   "cell_type": "code",
   "execution_count": null,
   "id": "e8d0b926",
   "metadata": {},
   "outputs": [],
   "source": [
    ". script-path                   # '.' is a shortcut to 'source'"
   ]
  },
  {
   "cell_type": "markdown",
   "id": "51f5501c",
   "metadata": {},
   "source": [
    "A comment is denoted by a `#`."
   ]
  },
  {
   "cell_type": "code",
   "execution_count": null,
   "id": "d309ca9d",
   "metadata": {},
   "outputs": [],
   "source": [
    "command -option argument        # This is a comment"
   ]
  },
  {
   "cell_type": "markdown",
   "id": "05e44fe2",
   "metadata": {},
   "source": [
    "#### Working with Variables"
   ]
  },
  {
   "cell_type": "markdown",
   "id": "2c5fc5e7",
   "metadata": {},
   "source": [
    "A variable must consist only of alphanumeric characters and underscores, and may not begin with a digit."
   ]
  },
  {
   "cell_type": "code",
   "execution_count": null,
   "id": "565e3c3d",
   "metadata": {},
   "outputs": [],
   "source": [
    "var=\"Just a line of text.\""
   ]
  },
  {
   "cell_type": "markdown",
   "id": "6ab5d85a",
   "metadata": {},
   "source": [
    "*Note:* The expansion of any unset variable is an empty string."
   ]
  },
  {
   "cell_type": "markdown",
   "id": "33799643",
   "metadata": {},
   "source": [
    "To export a variable to new shells opened from the current shell,"
   ]
  },
  {
   "cell_type": "code",
   "execution_count": null,
   "id": "799b8a50",
   "metadata": {},
   "outputs": [],
   "source": [
    "export var                     # 'export' is a shell built-in"
   ]
  },
  {
   "cell_type": "markdown",
   "id": "a169f860",
   "metadata": {},
   "source": [
    "#### Working with Functions"
   ]
  },
  {
   "cell_type": "markdown",
   "id": "80c4c14e",
   "metadata": {},
   "source": [
    "A function is a type of a command."
   ]
  },
  {
   "cell_type": "code",
   "execution_count": null,
   "id": "d2009047",
   "metadata": {},
   "outputs": [],
   "source": [
    "function function-name {\n",
    "    command1\n",
    "    command2\n",
    "    ...\n",
    "    \n",
    "    return 0                  # Exit status\n",
    "}"
   ]
  },
  {
   "cell_type": "markdown",
   "id": "685617b4",
   "metadata": {},
   "source": [
    "Several special variables may be used within functions."
   ]
  },
  {
   "cell_type": "markdown",
   "id": "dcf5082f",
   "metadata": {},
   "source": [
    "| *Special Variable* | *Description* |\n",
    "| :-- | :-- |\n",
    "| `$1` | The first argument passed to a function.\n",
    "| `$#` | The number of arguments passed to a function.\n",
    "| `$@` | All arguments passed to a function, individually double-quoted.\n",
    "| `$*` | All arguments passed to a function, all double-quoted."
   ]
  },
  {
   "cell_type": "markdown",
   "id": "b7b6e518",
   "metadata": {},
   "source": [
    "*Note:* These variables, when used outside of a function, relate to the arguments passed to the script itself.\n",
    "\n",
    "*Note:* To access an argument greater than nine, surround the number with braces (e.g: `${10}`).\n",
    "\n",
    "*Note:* `shift` is a shell built-in command, that shifts all arguments (e.g: `$2` becomes `$1`), and decrements `$#`."
   ]
  },
  {
   "cell_type": "markdown",
   "id": "9f8282ee",
   "metadata": {},
   "source": [
    "To define a local variable within a function,"
   ]
  },
  {
   "cell_type": "code",
   "execution_count": null,
   "id": "b6f784ab",
   "metadata": {},
   "outputs": [],
   "source": [
    "function function-name {\n",
    "    local var                     # Overrides global variable 'var', if it exists\n",
    "    var=\"...\"\n",
    "}"
   ]
  },
  {
   "cell_type": "markdown",
   "id": "e4a6c3f4",
   "metadata": {},
   "source": [
    "To export a function to new shells opened from the current shell,"
   ]
  },
  {
   "cell_type": "code",
   "execution_count": null,
   "id": "032b7419",
   "metadata": {},
   "outputs": [],
   "source": [
    "export -f function-name"
   ]
  },
  {
   "cell_type": "markdown",
   "id": "1260089b",
   "metadata": {},
   "source": [
    "#### Working with `if`"
   ]
  },
  {
   "cell_type": "markdown",
   "id": "a22423d2",
   "metadata": {},
   "source": [
    "`if` and related reserved keywords enable conditional execution of commands, based on the exit status of another command.\n",
    "* `0` evaluates to *true*.\n",
    "* Any other value evaluates to *false*."
   ]
  },
  {
   "cell_type": "code",
   "execution_count": null,
   "id": "4704a45a",
   "metadata": {},
   "outputs": [],
   "source": [
    "if command; then\n",
    "    ...\n",
    "elif command; then\n",
    "    ...\n",
    "else\n",
    "    ...\n",
    "fi"
   ]
  },
  {
   "cell_type": "markdown",
   "id": "6fbd5114",
   "metadata": {},
   "source": [
    "The most commonly used command for conditional execution is `test`."
   ]
  },
  {
   "cell_type": "markdown",
   "id": "ae9cfed8",
   "metadata": {},
   "source": [
    "| *Command* | *Evaluates to true if?* |\n",
    "| :-- | :-- |\n",
    "| `test -e file` | File exists.\n",
    "| `test -d file` | File is a directory.\n",
    "| `test -f file` | File is a regular file.\n",
    "| ㅤ |\n",
    "| `test string` | String is not empty.\n",
    "| `test string1 == string2` | Strings are matching.\n",
    "| `test string1 != string2` | Strings are non-matching.\n",
    "| ㅤ |\n",
    "| `test int1 -eq int2` | First integer is equal to second integer.\n",
    "| `test int1 -ne int2` | First integer is not equal to second integer.\n",
    "| `test int1 -lt int2` | First integer is less than second integer.\n",
    "| `test int1 -le int2` | First integer is less than or equal to second integer.\n",
    "| `test int1 -gt int2` | First integer is greater than second integer.\n",
    "| `test int1 -ge int2` | First integer is greater than or equal to second integer."
   ]
  },
  {
   "cell_type": "markdown",
   "id": "5178c7ab",
   "metadata": {},
   "source": [
    "*Note:* `[ ... ]` is a more syntatically pleasing way of typing `test ...`.\n",
    "\n",
    "*Note:* `!` is a shell built-in operator that negates the exit status of a succeeding command."
   ]
  },
  {
   "cell_type": "markdown",
   "id": "401aefae",
   "metadata": {},
   "source": [
    "The shell built-in operator `[[ ... ]]` supports all that `[ ... ]` supports, and more."
   ]
  },
  {
   "cell_type": "markdown",
   "id": "abee4ff6",
   "metadata": {},
   "source": [
    "| *Command* | *Evaluates to true if?* |\n",
    "| :-- | :-- |\n",
    "| `[[ $STRING == *.txt ]]` | `$STRING` has a `.txt` extension.\n",
    "| `[[ $STRING =~ ^.+@.+\\.com$ ]]` | `$STRING` is an e-mail address."
   ]
  },
  {
   "cell_type": "markdown",
   "id": "d3a52c35",
   "metadata": {},
   "source": [
    "Both `[ ... ]` and `[[ ... ]]` support shell built-in logical operators."
   ]
  },
  {
   "cell_type": "markdown",
   "id": "e95d1d46",
   "metadata": {},
   "source": [
    "| *Operation* | `[ ... ]` | `[[ ... ]]`\n",
    "| :-- | :-- | :-- |\n",
    "| *AND* | `-a` | `&&`\n",
    "| *OR* | `-o` | `\\|\\|`"
   ]
  },
  {
   "cell_type": "markdown",
   "id": "919dde61",
   "metadata": {},
   "source": [
    "#### Working with `while`"
   ]
  },
  {
   "cell_type": "markdown",
   "id": "2edae0c4",
   "metadata": {},
   "source": [
    "`while` and related reserved keywords enable looping on commands, based on the exit status of another command."
   ]
  },
  {
   "cell_type": "code",
   "execution_count": null,
   "id": "aec194ff",
   "metadata": {},
   "outputs": [],
   "source": [
    "while command; do\n",
    "    ...\n",
    "done"
   ]
  },
  {
   "cell_type": "code",
   "execution_count": null,
   "id": "55237adc",
   "metadata": {},
   "outputs": [],
   "source": [
    "until command; do            # 'until' is the inversion of `while\n",
    "    ...\n",
    "done"
   ]
  },
  {
   "cell_type": "markdown",
   "id": "8f4d2ce2",
   "metadata": {},
   "source": [
    "*Note:* `break` and `continue` are shell built-in commands that may be used within a `while`, to break loop or skip an iteration, respectively."
   ]
  },
  {
   "cell_type": "markdown",
   "id": "39434d7e",
   "metadata": {},
   "source": [
    "There is syntax that allows redirection to the *stdin* of the looping command."
   ]
  },
  {
   "cell_type": "code",
   "execution_count": null,
   "id": "d9c5fadc",
   "metadata": {},
   "outputs": [],
   "source": [
    "command | while command; do\n",
    "    ...\n",
    "done"
   ]
  },
  {
   "cell_type": "code",
   "execution_count": null,
   "id": "2ad989bc",
   "metadata": {},
   "outputs": [],
   "source": [
    "while command; do\n",
    "    ...\n",
    "done < file"
   ]
  },
  {
   "cell_type": "markdown",
   "id": "857cc073",
   "metadata": {},
   "source": [
    "#### Working with `case`"
   ]
  },
  {
   "cell_type": "markdown",
   "id": "5442f493",
   "metadata": {},
   "source": [
    "`case` and related reserved keywords enable conditional execution of commands, based on the contents of a string matching a pattern."
   ]
  },
  {
   "cell_type": "code",
   "execution_count": null,
   "id": "5be04116",
   "metadata": {},
   "outputs": [],
   "source": [
    "case string in\n",
    "    pattern | pattern | ... )\n",
    "        command\n",
    "        ...\n",
    "        ;;\n",
    "    pattern | pattern | ... )\n",
    "        command\n",
    "        ...\n",
    "        ;;\n",
    "    ...\n",
    "esac"
   ]
  },
  {
   "cell_type": "markdown",
   "id": "1c4c202e",
   "metadata": {},
   "source": [
    "*Note:* Patterns used by `case` utilize wildcards, like `*` and `?`, but not RegEx.\n",
    "\n",
    "*Note:* To enable the matching of more than one case, terminate cases with `;;&` instead of `;;`."
   ]
  },
  {
   "cell_type": "markdown",
   "id": "bd28046d",
   "metadata": {},
   "source": [
    "#### Working with `for`"
   ]
  },
  {
   "cell_type": "markdown",
   "id": "7f198c4e",
   "metadata": {},
   "source": [
    "`for` and related reserved keywords enable looping on commands, with one of multiple strings at a time, assigned to a looping variable."
   ]
  },
  {
   "cell_type": "code",
   "execution_count": null,
   "id": "69b033c5",
   "metadata": {},
   "outputs": [],
   "source": [
    "for i in str1 str2 ...; do\n",
    "    command\n",
    "    ...\n",
    "done"
   ]
  },
  {
   "cell_type": "markdown",
   "id": "2a70c1e6",
   "metadata": {},
   "source": [
    "Another `for` syntax bares similarity to general-purpose programming languages (e.g: C)."
   ]
  },
  {
   "cell_type": "code",
   "execution_count": null,
   "id": "76005d54",
   "metadata": {},
   "outputs": [],
   "source": [
    "for (( i=0; i<N; i=i+STEP )); do\n",
    "    command\n",
    "    ...\n",
    "done"
   ]
  },
  {
   "cell_type": "markdown",
   "id": "c0cee3fd",
   "metadata": {},
   "source": [
    "#### String Manipulation"
   ]
  },
  {
   "cell_type": "markdown",
   "id": "79a54800",
   "metadata": {},
   "source": [
    "Variable expansion syntax allows for various string manipulation operations."
   ]
  },
  {
   "cell_type": "markdown",
   "id": "28ee237c",
   "metadata": {},
   "source": [
    "| *Syntax* | *Description* |\n",
    "| :-- | :-- |\n",
    "| `${VAR:-string}` | Expands into `string` if `$VAR` is empty. |\n",
    "| `${#VAR}` | Expands into length of `$VAR`. |\n",
    "| ㅤ |\n",
    "| `${VAR:I}` | Expands into substring, with start index `$I`. |\n",
    "| `${VAR:I:N}` | Expands into substring, with start index `$I` and length `$N`. |\n",
    "| ㅤ |\n",
    "| `${VAR#*.}` | Removes shortest match to pattern `*.`, from the beginning. |\n",
    "| `${VAR##*.}` | Removes longest match to pattern `*.`, from the beginning. |\n",
    "| ㅤ |\n",
    "| `${VAR%.*}` | Removes shortest match to pattern `.*`, from the end. |\n",
    "| `${VAR%%.*}` | Removes longest match to pattern `.*`, from the end. |\n",
    "| ㅤ |\n",
    "| `${VAR//str1/str2}` | Replaces all occurences of `str1` with `str2`. |\n",
    "| `${VAR/#str1/str2}` | Replaces an occurence of `str1` with `str2`, must occur at the beginning. |\n",
    "| `${VAR/%str1/str2}` | Replaces all occurences of `str1` with `str2`must occur at the end. |\n",
    "| ㅤ |\n",
    "| `${VAR,,}` | Transform all characters into lower-case. |\n",
    "| `${VAR^^}` | Transform all characters into upper-case. |\n",
    "| `${VAR^}` | Transform first character only into upper-case. |"
   ]
  },
  {
   "cell_type": "markdown",
   "id": "2b577475",
   "metadata": {},
   "source": [
    "#### Arrays"
   ]
  },
  {
   "cell_type": "markdown",
   "id": "bbfed5df",
   "metadata": {},
   "source": [
    "The shell supports arrays, as a variable type."
   ]
  },
  {
   "cell_type": "code",
   "execution_count": null,
   "id": "4b5de142",
   "metadata": {},
   "outputs": [],
   "source": [
    "arr={\"...\" \"...\" ...}          # Creates array 'arr'"
   ]
  },
  {
   "cell_type": "code",
   "execution_count": null,
   "id": "000bcb06",
   "metadata": {},
   "outputs": [],
   "source": [
    "arr[0]=\"...\"                   # Creates array 'arr', assigns first element"
   ]
  },
  {
   "cell_type": "code",
   "execution_count": null,
   "id": "f43c5fd0",
   "metadata": {},
   "outputs": [],
   "source": [
    "${arr[0]}                      # Expands first element of array 'arr'"
   ]
  },
  {
   "cell_type": "markdown",
   "id": "c2ea25b6",
   "metadata": {},
   "source": [
    "The shell, also, supports associative arrays, as a variable type."
   ]
  },
  {
   "cell_type": "code",
   "execution_count": null,
   "id": "1d051732",
   "metadata": {},
   "outputs": [],
   "source": [
    "declare -A colors              # 'declare' is a shell built-in\n",
    "\n",
    "colors[\"red\"]=\"#ff0000\""
   ]
  },
  {
   "cell_type": "code",
   "execution_count": null,
   "id": "c0a68917",
   "metadata": {},
   "outputs": [],
   "source": [
    "echo ${colors[\"red\"]}"
   ]
  },
  {
   "cell_type": "markdown",
   "id": "ae6f0cce",
   "metadata": {},
   "source": [
    "#### User Input"
   ]
  },
  {
   "cell_type": "markdown",
   "id": "6ce143ff",
   "metadata": {},
   "source": [
    "The `read` shell built-in command allows for the receiving of user input, to be read from `$REPLY`, by default."
   ]
  },
  {
   "cell_type": "code",
   "execution_count": null,
   "id": "90831044",
   "metadata": {},
   "outputs": [],
   "source": [
    "read                  # Reads line into '$REPLY'"
   ]
  },
  {
   "cell_type": "code",
   "execution_count": null,
   "id": "4ad7e907",
   "metadata": {},
   "outputs": [],
   "source": [
    "read VAR              # Reads line into '$VAR'"
   ]
  },
  {
   "cell_type": "code",
   "execution_count": null,
   "id": "84d24a3c",
   "metadata": {},
   "outputs": [],
   "source": [
    "read -a ARR           # Reads line, split into '$ARR'"
   ]
  },
  {
   "cell_type": "markdown",
   "id": "90ff082b",
   "metadata": {},
   "source": [
    "*Note:* The `-s` option enables silent mode, which disables the display of characters as they are typed, used for confidential input (e.g: password).\n",
    "\n",
    "*Note:* The `-p` options allows for an argument to be displayed, as prompt, beforehand."
   ]
  },
  {
   "cell_type": "markdown",
   "id": "26a73a14",
   "metadata": {},
   "source": [
    "## Useful Commands"
   ]
  },
  {
   "cell_type": "markdown",
   "id": "bd59ef87",
   "metadata": {},
   "source": [
    "### *CMD:* File System"
   ]
  },
  {
   "cell_type": "markdown",
   "id": "d7fb93bc",
   "metadata": {},
   "source": [
    "In Linux, the root directory is `/`."
   ]
  },
  {
   "cell_type": "markdown",
   "id": "919ffaab",
   "metadata": {},
   "source": [
    "| *Path* | *Description* |\n",
    "| :-- | :-- |\n",
    "| `/root/` | Home directory of *root* user. |\n",
    "| `/home/USER/` | Home directory of any user. |"
   ]
  },
  {
   "cell_type": "markdown",
   "id": "8caf9193",
   "metadata": {},
   "source": [
    "*Note:* In Linux, `./` denotes the working directory, and `../` denotes the parent directory of."
   ]
  },
  {
   "cell_type": "markdown",
   "id": "b7dbcd2f",
   "metadata": {},
   "source": [
    "#### `cd`"
   ]
  },
  {
   "cell_type": "markdown",
   "id": "a5dbfc96",
   "metadata": {},
   "source": [
    "`cd` is a shell built-in command that allows the user to change the working directory."
   ]
  },
  {
   "cell_type": "code",
   "execution_count": null,
   "id": "2b44272d",
   "metadata": {},
   "outputs": [],
   "source": [
    "cd PATH"
   ]
  },
  {
   "cell_type": "markdown",
   "id": "aee7912c",
   "metadata": {},
   "source": [
    "*Note:* `pwd` is a shell built-in command that displays the working directory."
   ]
  },
  {
   "cell_type": "markdown",
   "id": "c2ff55da",
   "metadata": {},
   "source": [
    "#### `ls`"
   ]
  },
  {
   "cell_type": "markdown",
   "id": "1a009e06",
   "metadata": {},
   "source": [
    "`ls` is a file-system command that displays the contents of any directory."
   ]
  },
  {
   "cell_type": "code",
   "execution_count": null,
   "id": "1cf88778",
   "metadata": {},
   "outputs": [],
   "source": [
    "ls -options PATH"
   ]
  },
  {
   "cell_type": "markdown",
   "id": "3fdc6bbe",
   "metadata": {},
   "source": [
    "| *Option* | *Description* |\n",
    "| :-- | :-- |\n",
    "| `-A` | Includes hidden files and directories.\n",
    "| `-l` | Display information (e.g: size) about each file, or directory.\n",
    "| `-h` | Combined with `-l`, displays size in human-readable format."
   ]
  },
  {
   "cell_type": "markdown",
   "id": "f51787d3",
   "metadata": {},
   "source": [
    "*Note:* In Linux, a hidden file (or, directory) is any file that begins with a dot.\n",
    "\n",
    "*Note:* `ls` displays the actual size, and not disk space utilized, for regular files only. For directories, the disk space utilized to store meta-information about the directory is displayed.\n",
    "\n",
    "*Note:* Typing `ls -l`, the first character represents the type of file: `-` for regular files, `d` for directories, `l` for symbolic links."
   ]
  },
  {
   "cell_type": "markdown",
   "id": "680cd636",
   "metadata": {},
   "source": [
    "#### `mkdir`"
   ]
  },
  {
   "cell_type": "markdown",
   "id": "59944b20",
   "metadata": {},
   "source": [
    "`mkdir` is a file-system command that creates directories."
   ]
  },
  {
   "cell_type": "code",
   "execution_count": null,
   "id": "a9cd60b1",
   "metadata": {},
   "outputs": [],
   "source": [
    "mkdir DIR1 DIR2 ..."
   ]
  },
  {
   "cell_type": "markdown",
   "id": "e2f8dc38",
   "metadata": {},
   "source": [
    "#### `cp`"
   ]
  },
  {
   "cell_type": "markdown",
   "id": "3104a03b",
   "metadata": {},
   "source": [
    "`cp` is a file-system command that copies files and directories."
   ]
  },
  {
   "cell_type": "code",
   "execution_count": null,
   "id": "6542a13b",
   "metadata": {},
   "outputs": [],
   "source": [
    "cp OLD_PATH/OLD_NAME NEW_PATH/NEW_NAME                       # Copies file or directory, from 'OLD_PATH'\n",
    "                                                             #   to 'NEW_PATH', and renames it."
   ]
  },
  {
   "cell_type": "code",
   "execution_count": null,
   "id": "0f0dfc1a",
   "metadata": {},
   "outputs": [],
   "source": [
    "cp PATH1/NAME1 PATH2/NAME2 ... PATH/EXISTING_DIRECTORY       # Copies files or directories, into an\n",
    "                                                             #   existing directory, without renaming."
   ]
  },
  {
   "cell_type": "markdown",
   "id": "cf227477",
   "metadata": {},
   "source": [
    "*Note:* When copying a directory, use the `-r` option.\n",
    "\n",
    "*Note:* `mv` is a file-system command, that moves files and directories, instead. The `-r` option is not required when moving directories."
   ]
  },
  {
   "cell_type": "markdown",
   "id": "8d19d2e1",
   "metadata": {},
   "source": [
    "#### `rm`"
   ]
  },
  {
   "cell_type": "markdown",
   "id": "47d3fee4",
   "metadata": {},
   "source": [
    "`rm` is a file-system command that removes files and directories."
   ]
  },
  {
   "cell_type": "code",
   "execution_count": null,
   "id": "9404da71",
   "metadata": {},
   "outputs": [],
   "source": [
    "rm -options item1 item2 ..."
   ]
  },
  {
   "cell_type": "markdown",
   "id": "76ff51cd",
   "metadata": {},
   "source": [
    "| *Option* | *Description* |\n",
    "| :-- | :-- |\n",
    "| `-r` | Performs recursive deletion, required for directories.\n",
    "| `-f` | Ignores non-existent files and directories."
   ]
  },
  {
   "cell_type": "markdown",
   "id": "11550df0",
   "metadata": {},
   "source": [
    "#### `find`"
   ]
  },
  {
   "cell_type": "markdown",
   "id": "6dee1fed",
   "metadata": {},
   "source": [
    "`find` is a file-system command that searches for files and directories everywhere inside a directory."
   ]
  },
  {
   "cell_type": "code",
   "execution_count": null,
   "id": "97173b8b",
   "metadata": {},
   "outputs": [],
   "source": [
    "find SEARCH_DIR -name FILE"
   ]
  },
  {
   "cell_type": "markdown",
   "id": "f12a51b8",
   "metadata": {},
   "source": [
    "| *Option* | *Description* |\n",
    "| :-- | :-- |\n",
    "| `-type ARGUMENT` | Specify file type (e.g: `f` for regular files, `d` for directories, etc)."
   ]
  },
  {
   "cell_type": "markdown",
   "id": "a089c7ec",
   "metadata": {},
   "source": [
    "*Note:* `find` accepts patterns as arguments to the `-name` option. (e.g: `file*`)."
   ]
  },
  {
   "cell_type": "markdown",
   "id": "5e526fd1",
   "metadata": {},
   "source": [
    "#### `file`"
   ]
  },
  {
   "cell_type": "markdown",
   "id": "279d9b29",
   "metadata": {},
   "source": [
    "`file` is a file-system command that determines the type of a file."
   ]
  },
  {
   "cell_type": "code",
   "execution_count": null,
   "id": "1dd55e35",
   "metadata": {},
   "outputs": [],
   "source": [
    "file file-path"
   ]
  },
  {
   "cell_type": "markdown",
   "id": "bdd23a53",
   "metadata": {},
   "source": [
    "*Note:* In Linux, extensions are ignored, unlike in Windows OS."
   ]
  },
  {
   "cell_type": "markdown",
   "id": "8539553b",
   "metadata": {},
   "source": [
    "#### `ln`"
   ]
  },
  {
   "cell_type": "markdown",
   "id": "bd7ab853",
   "metadata": {},
   "source": [
    "`ln` is a file-system command that creates hard and symbolic links."
   ]
  },
  {
   "cell_type": "markdown",
   "id": "72ad8bc6",
   "metadata": {},
   "source": [
    "A *hard link* is indistinguishable from a linked file.\n",
    "* It can only link to files, and not directories.\n",
    "* It can only link to files within the physical partition where it resides.\n",
    "\n",
    "*Note:* `ls -l` shows the number of hard links to a file. When it reaches zero, the file is removed."
   ]
  },
  {
   "cell_type": "markdown",
   "id": "94ff6d21",
   "metadata": {},
   "source": [
    "A *symbolic link* is similar to a shortcut in Windows OS. The limitations of hard links do not apply to symbolic links.\n",
    "\n",
    "*Note:* Copying and moving symbolic links operate on the linked file. However, removing a symbolic link deletes the link itself."
   ]
  },
  {
   "cell_type": "markdown",
   "id": "cb4e39c6",
   "metadata": {},
   "source": [
    "### *CMD:* User Management"
   ]
  },
  {
   "cell_type": "markdown",
   "id": "9b956092",
   "metadata": {},
   "source": []
  }
 ],
 "metadata": {
  "kernelspec": {
   "display_name": "Python 3 (ipykernel)",
   "language": "python",
   "name": "python3"
  },
  "language_info": {
   "codemirror_mode": {
    "name": "ipython",
    "version": 3
   },
   "file_extension": ".py",
   "mimetype": "text/x-python",
   "name": "python",
   "nbconvert_exporter": "python",
   "pygments_lexer": "ipython3",
   "version": "3.8.10"
  }
 },
 "nbformat": 4,
 "nbformat_minor": 5
}
