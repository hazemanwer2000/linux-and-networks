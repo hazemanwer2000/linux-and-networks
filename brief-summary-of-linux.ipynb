{
 "cells": [
  {
   "cell_type": "markdown",
   "id": "121e1865",
   "metadata": {},
   "source": [
    "# A brief summary of *Linux*\n",
    "<br>\n",
    "<div style=\"opacity: 0.8; font-family: Consolas, Monaco, Lucida Console, Liberation Mono, DejaVu Sans Mono, Bitstream Vera Sans Mono, Courier New; font-size: 12px; font-style: italic;\">\n",
    "    ────────\n",
    "    for more from the author, visit\n",
    "    <a href=\"https://github.com/hazemanwer2000\">github.com/hazemanwer2000</a>.\n",
    "    ────────\n",
    "</div>"
   ]
  },
  {
   "cell_type": "markdown",
   "id": "f1ed88fe",
   "metadata": {},
   "source": [
    "## Table of Contents\n",
    "* [](#)\n",
    "\n",
    "<hr>"
   ]
  },
  {
   "cell_type": "markdown",
   "id": "3e7816d5",
   "metadata": {},
   "source": [
    "## *Bash* Shell <a class=\"anchor\" id=\"\"></a>"
   ]
  },
  {
   "cell_type": "markdown",
   "id": "04091d3d",
   "metadata": {},
   "source": [
    "In most Linux systems, the default shell is *bash*."
   ]
  },
  {
   "cell_type": "markdown",
   "id": "081cf8f0",
   "metadata": {},
   "source": [
    "### The Basics"
   ]
  },
  {
   "cell_type": "markdown",
   "id": "696167a6",
   "metadata": {},
   "source": [
    "#### Commands"
   ]
  },
  {
   "cell_type": "markdown",
   "id": "38199a22",
   "metadata": {},
   "source": [
    "A shell command may be one of five types.\n",
    "\n",
    "1. An *alias*, to another command.\n",
    "2. A reserved word, such as `while`, `case`, and similar programming constructs.\n",
    "3. A *function*, an alias to a set of commands to be executed together, possibly accepting arguments.\n",
    "4. A shell built-in, a command built into the shell itself.\n",
    "5. A file-system command, stored and executed from the file system.\n",
    "\n",
    "*Note:* The shell checks for commands in the above order, which allows for an alias, or a function and a command to match in naming.\n",
    "\n",
    "*Note:* A file-system command is searched for in colon-separated directories, left-to-right, defined in the `$PATH` environment variable, discussed later.\n",
    "\n",
    "*Note:* The exit status of the last executed command may be accessed using a special variable, `$?`, discussed later. For piped commands, discussed later, use the shell array variable `$PIPESTATUS`."
   ]
  },
  {
   "cell_type": "markdown",
   "id": "16273e0c",
   "metadata": {},
   "source": [
    "To check the type of a command,"
   ]
  },
  {
   "cell_type": "code",
   "execution_count": null,
   "id": "0f466129",
   "metadata": {},
   "outputs": [],
   "source": [
    "type -a command-name          # 'type' is a shell built-in"
   ]
  },
  {
   "cell_type": "markdown",
   "id": "743ddb79",
   "metadata": {},
   "source": [
    "To define a new alias,"
   ]
  },
  {
   "cell_type": "code",
   "execution_count": null,
   "id": "0ea47c57",
   "metadata": {},
   "outputs": [],
   "source": [
    "alias name=\"command with options and arguments\""
   ]
  },
  {
   "cell_type": "markdown",
   "id": "743ceaa9",
   "metadata": {},
   "source": [
    "To get help for the shell built-in,"
   ]
  },
  {
   "cell_type": "code",
   "execution_count": null,
   "id": "e98aaee8",
   "metadata": {},
   "outputs": [],
   "source": [
    "help command-name             # 'help' is a shell-built-in "
   ]
  },
  {
   "cell_type": "markdown",
   "id": "b24cad5c",
   "metadata": {},
   "source": [
    "To get help on a Linux file-system command, consult the offline manual pages,"
   ]
  },
  {
   "cell_type": "code",
   "execution_count": null,
   "id": "29f620fc",
   "metadata": {},
   "outputs": [],
   "source": [
    "man -f command-name                       # Returns the section number a command is described in"
   ]
  },
  {
   "cell_type": "code",
   "execution_count": null,
   "id": "81ae18fd",
   "metadata": {},
   "outputs": [],
   "source": [
    "man section-number command-name           # Shows the description of a command in a specific section"
   ]
  },
  {
   "cell_type": "markdown",
   "id": "4d92c414",
   "metadata": {},
   "source": [
    "#### Variables"
   ]
  },
  {
   "cell_type": "markdown",
   "id": "e45f4d33",
   "metadata": {},
   "source": [
    "Every shell session has *variables* associated with it, that store useful information. A subset of those are exported to any shells opened from the current shell, called *environment variables*."
   ]
  },
  {
   "cell_type": "markdown",
   "id": "3d80a7b0",
   "metadata": {},
   "source": [
    "*Note:* Similarly, defined functions may be exported to any shells opened from the current shell, discussed later."
   ]
  },
  {
   "cell_type": "markdown",
   "id": "108f107d",
   "metadata": {},
   "source": [
    "#### Scripts"
   ]
  },
  {
   "cell_type": "markdown",
   "id": "43b95fa2",
   "metadata": {},
   "source": [
    "A *script* is a file that lists a series of commands, line by line, to be executed.\n",
    "\n",
    "Different script files are executed, by default, at different stages.\n",
    "\n",
    "| *Path* | *Description* |\n",
    "| :-- | :-- |\n",
    "| `/etc/profile` | Executed for every new login shell, for all users.\n",
    "| `~/.bash_profile` | Executed for every new login shell, for the corresponding user.\n",
    "| `~/.bash_logout` | Executed for every exit from a login shell, for the corresponding user.\n",
    "| ㅤ |\n",
    "| `/etc/bashrc` | Executed for every new shell, for all users.\n",
    "| `~/.bashrc` | Executed for every new shell, for the corresponding user."
   ]
  },
  {
   "cell_type": "markdown",
   "id": "bb9864ab",
   "metadata": {},
   "source": [
    "*Note:* A *login shell* is a shell that prompts a user for login."
   ]
  },
  {
   "cell_type": "markdown",
   "id": "baf7973e",
   "metadata": {},
   "source": [
    "#### *Redirection*"
   ]
  },
  {
   "cell_type": "markdown",
   "id": "7c989e30",
   "metadata": {},
   "source": [
    "Every executing command has a standard output *(stdout)*, input *(stdin)* and error *(stderr)* associated with. By default, *stdin* is the keyboard, and *stdout(-err)* is the screen.\n",
    "\n",
    "The shell allows for the *redirection* of the *stdout*, *stdin* and *stderr*, allowing, for example, *stdout* of one command to be the *stdin* of another.\n",
    "\n",
    "| *Syntax* | *Description* |\n",
    "| :-- | :-- |\n",
    "| `cmd1 \\| cmd2` | Redirects *stdout* of `cmd1` to *stdin* of `cmd2`. |\n",
    "| ㅤ |\n",
    "| `cmd < file` | Redirects the contents of `file` to *stdin* of `cmd`. |\n",
    "| ㅤ |\n",
    "| `cmd > file` | Redirects the *stdout* of `cmd` to `file`. If it exists, file is overwritten.\n",
    "| `cmd >> file` | Redirects the *stdout* of `cmd` to `file`. If it exists, file is appended to.\n",
    "| ㅤ |\n",
    "| `cmd 2> file` | Redirects the *stderr* of `cmd` to `file`. If it exists, file is overwritten.\n",
    "| `cmd &> file` | Redirects the *stdout* and *stderr* of `cmd` to `file`. If it exists, file is overwritten."
   ]
  },
  {
   "cell_type": "markdown",
   "id": "af16819a",
   "metadata": {},
   "source": [
    "#### *Expansion*"
   ]
  },
  {
   "cell_type": "markdown",
   "id": "9bad6992",
   "metadata": {},
   "source": [
    "Before a command line is interpreted for execution, the shell performs different types of *expansions*."
   ]
  },
  {
   "cell_type": "markdown",
   "id": "65fe8088",
   "metadata": {},
   "source": [
    "| *Text* | *Expansion* |\n",
    "| :-- | :-- |\n",
    "| `$PATH` or `${PATH}` | The contents of the variable (e.g: `\\bin:\\usr\\bin`). |\n",
    "| `$(echo some text)` | The output of the command (e.g: `some text`). |\n",
    "| `$[2020 - 1957]` | The result of the arithmetic expression (e.g: `63`). |\n",
    "| ㅤ |\n",
    "| `~` | The path of the home directory of the current user.\n",
    "| `*.txt` | All files, within the current working directory, with a `.txt` extension.\n",
    "| `{1,2,3}.txt` | Expands into `1.txt 2.txt 3.txt`."
   ]
  },
  {
   "cell_type": "markdown",
   "id": "20e47b4f",
   "metadata": {},
   "source": [
    "*Note:* Similar to `*`, `?` matches any character, and `[...]` matches a range of characters (e.g: `[a-zA-Z0-9]`, `[abc123]`). \n",
    "\n",
    "*Note:* `{1,2,3}` is synonymous with `{1..3}`, and `{a,b,c}` is synonymous with `{a..c}`.\n",
    "\n",
    "*Note:* Expansions occur in the following order: brace expansion, tilde expansion, variable expansion, command substitution, arithmetic expansion, and filename expansion."
   ]
  },
  {
   "cell_type": "markdown",
   "id": "0bf5cef6",
   "metadata": {},
   "source": [
    "### Scripting"
   ]
  },
  {
   "cell_type": "markdown",
   "id": "41d58138",
   "metadata": {},
   "source": [
    "Every script begins with a *shebang*, denoted by `#!`, that tells the OS the path of the interpreter to execute the script."
   ]
  },
  {
   "cell_type": "code",
   "execution_count": null,
   "id": "01ec4276",
   "metadata": {},
   "outputs": [],
   "source": [
    "#!/bin/bash"
   ]
  },
  {
   "cell_type": "markdown",
   "id": "630a5291",
   "metadata": {},
   "source": [
    "*Note:* The use of a shebang allows the execution of a script file, as a file-system command, instead of having to pass it to the interpreter explicitly, as `bash script-name`. This is common to all interpreted programming languages (e.g: Python)."
   ]
  },
  {
   "cell_type": "markdown",
   "id": "7e669442",
   "metadata": {},
   "source": [
    "A comment is denoted by a `#`."
   ]
  },
  {
   "cell_type": "code",
   "execution_count": null,
   "id": "4b32b57d",
   "metadata": {},
   "outputs": [],
   "source": [
    "command -option argument        # This is a comment"
   ]
  },
  {
   "cell_type": "markdown",
   "id": "89294b69",
   "metadata": {},
   "source": [
    "To execute commands within a script file in the current shell,"
   ]
  },
  {
   "cell_type": "code",
   "execution_count": null,
   "id": "8af8020f",
   "metadata": {},
   "outputs": [],
   "source": [
    "source script-path              # 'source' is a shell built-in"
   ]
  },
  {
   "cell_type": "code",
   "execution_count": null,
   "id": "98f611c4",
   "metadata": {},
   "outputs": [],
   "source": [
    ". script-path                   # '.' is a shortcut to 'source'"
   ]
  },
  {
   "cell_type": "markdown",
   "id": "d23e89f7",
   "metadata": {},
   "source": [
    "#### Working with Variables"
   ]
  },
  {
   "cell_type": "markdown",
   "id": "28c9035d",
   "metadata": {},
   "source": [
    "A variable must consist only of alphanumeric characters and underscores, and may not begin with a digit."
   ]
  },
  {
   "cell_type": "code",
   "execution_count": null,
   "id": "786c34e8",
   "metadata": {},
   "outputs": [],
   "source": [
    "var=\"Just a line of text.\""
   ]
  },
  {
   "cell_type": "markdown",
   "id": "b466c9ce",
   "metadata": {},
   "source": [
    "*Note:* The expansion of any unset variable is an empty string."
   ]
  },
  {
   "cell_type": "markdown",
   "id": "f6635f78",
   "metadata": {},
   "source": [
    "To export a variable to new shells opened from the current shell,"
   ]
  },
  {
   "cell_type": "code",
   "execution_count": null,
   "id": "5b22e047",
   "metadata": {},
   "outputs": [],
   "source": [
    "export var                     # 'export' is a shell built-in"
   ]
  },
  {
   "cell_type": "markdown",
   "id": "bb9b988a",
   "metadata": {},
   "source": [
    "#### Working with Functions"
   ]
  },
  {
   "cell_type": "markdown",
   "id": "91d2f1ca",
   "metadata": {},
   "source": [
    "A function is a type of a command."
   ]
  },
  {
   "cell_type": "code",
   "execution_count": null,
   "id": "02589179",
   "metadata": {},
   "outputs": [],
   "source": [
    "function function-name {\n",
    "    command1\n",
    "    command2\n",
    "    ...\n",
    "    \n",
    "    return 0                  # Exit status\n",
    "}"
   ]
  },
  {
   "cell_type": "markdown",
   "id": "4cf6a935",
   "metadata": {},
   "source": [
    "Several special variables may be used within functions."
   ]
  },
  {
   "cell_type": "markdown",
   "id": "8654adbd",
   "metadata": {},
   "source": [
    "| *Special Variable* | *Description* |\n",
    "| :-- | :-- |\n",
    "| `$1` | The first argument passed to a function.\n",
    "| `$#` | The number of arguments passed to a function.\n",
    "| `$@` | All arguments passed to a function, individually double-quoted.\n",
    "| `$*` | All arguments passed to a function, all double-quoted."
   ]
  },
  {
   "cell_type": "markdown",
   "id": "b59a1808",
   "metadata": {},
   "source": [
    "To define a local variable within a function,"
   ]
  },
  {
   "cell_type": "code",
   "execution_count": null,
   "id": "03d00d88",
   "metadata": {},
   "outputs": [],
   "source": [
    "function function-name {\n",
    "    local var                     # Overrides global variable 'var', if it exists\n",
    "    var=\"...\"\n",
    "}"
   ]
  }
 ],
 "metadata": {
  "kernelspec": {
   "display_name": "Python 3 (ipykernel)",
   "language": "python",
   "name": "python3"
  },
  "language_info": {
   "codemirror_mode": {
    "name": "ipython",
    "version": 3
   },
   "file_extension": ".py",
   "mimetype": "text/x-python",
   "name": "python",
   "nbconvert_exporter": "python",
   "pygments_lexer": "ipython3",
   "version": "3.8.10"
  }
 },
 "nbformat": 4,
 "nbformat_minor": 5
}
