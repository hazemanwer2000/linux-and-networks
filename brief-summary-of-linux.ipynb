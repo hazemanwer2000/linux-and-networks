{
 "cells": [
  {
   "cell_type": "markdown",
   "id": "9fe6b059",
   "metadata": {},
   "source": [
    "# A brief summary of *Linux*\n",
    "<br>\n",
    "<div style=\"opacity: 0.8; font-family: Consolas, Monaco, Lucida Console, Liberation Mono, DejaVu Sans Mono, Bitstream Vera Sans Mono, Courier New; font-size: 12px; font-style: italic;\">\n",
    "    ────────\n",
    "    for more from the author, visit\n",
    "    <a href=\"https://github.com/hazemanwer2000\">github.com/hazemanwer2000</a>.\n",
    "    ────────\n",
    "</div>"
   ]
  },
  {
   "cell_type": "markdown",
   "id": "dd86f566",
   "metadata": {},
   "source": [
    "## Table of Contents\n",
    "* [](#)\n",
    "\n",
    "<hr>"
   ]
  },
  {
   "cell_type": "markdown",
   "id": "4bb38e7a",
   "metadata": {},
   "source": [
    "## *Bash* Shell <a class=\"anchor\" id=\"\"></a>"
   ]
  },
  {
   "cell_type": "markdown",
   "id": "0823e091",
   "metadata": {},
   "source": [
    "In most Linux systems, the default shell is *bash*."
   ]
  },
  {
   "cell_type": "markdown",
   "id": "b018c9a5",
   "metadata": {},
   "source": [
    "### The Basics"
   ]
  },
  {
   "cell_type": "markdown",
   "id": "1ddf03a0",
   "metadata": {},
   "source": [
    "#### Commands"
   ]
  },
  {
   "cell_type": "markdown",
   "id": "fb3f56d8",
   "metadata": {},
   "source": [
    "A shell command may be one of five types.\n",
    "\n",
    "1. An *alias*, to another command.\n",
    "2. A reserved word, such as `while`, `case`, and similar programming constructs.\n",
    "3. A *function*, an alias to a set of commands to be executed together, possibly accepting arguments.\n",
    "4. A shell built-in, a command built into the shell itself.\n",
    "5. A file-system command, stored and executed from the file system.\n",
    "\n",
    "*Note:* The shell checks for commands in the above order, which allows for an alias, or a function and a command to match in naming.\n",
    "\n",
    "*Note:* A file-system command is searched for in colon-separated directories, left-to-right, defined in the `$PATH` environment variable, discussed later."
   ]
  },
  {
   "cell_type": "markdown",
   "id": "d22121a2",
   "metadata": {},
   "source": [
    "To check the type of a command,"
   ]
  },
  {
   "cell_type": "code",
   "execution_count": null,
   "id": "4d1616c0",
   "metadata": {},
   "outputs": [],
   "source": [
    "type -a command-name          # 'type' is a shell built-in"
   ]
  },
  {
   "cell_type": "markdown",
   "id": "e1201ece",
   "metadata": {},
   "source": [
    "To define a new alias,"
   ]
  },
  {
   "cell_type": "code",
   "execution_count": null,
   "id": "02320364",
   "metadata": {},
   "outputs": [],
   "source": [
    "alias name=\"command with options and arguments\""
   ]
  },
  {
   "cell_type": "markdown",
   "id": "ff447b6c",
   "metadata": {},
   "source": [
    "To get help for the shell built-in,"
   ]
  },
  {
   "cell_type": "code",
   "execution_count": null,
   "id": "aa041b65",
   "metadata": {},
   "outputs": [],
   "source": [
    "help command-name             # 'help' is a shell-built-in "
   ]
  },
  {
   "cell_type": "markdown",
   "id": "b8cd6ef5",
   "metadata": {},
   "source": [
    "To get help on a Linux file-system command, consult the offline manual pages,"
   ]
  },
  {
   "cell_type": "code",
   "execution_count": null,
   "id": "5a4d2a0c",
   "metadata": {},
   "outputs": [],
   "source": [
    "man -f command-name                       # Returns the section number a command is described in"
   ]
  },
  {
   "cell_type": "code",
   "execution_count": null,
   "id": "48865625",
   "metadata": {},
   "outputs": [],
   "source": [
    "man section-number command-name           # Shows the description of a command in a specific section"
   ]
  },
  {
   "cell_type": "markdown",
   "id": "4fd4ba54",
   "metadata": {},
   "source": [
    "#### Variables"
   ]
  },
  {
   "cell_type": "markdown",
   "id": "b5107c62",
   "metadata": {},
   "source": [
    "Every shell session has *variables* associated with it, that store useful information. A subset of those are exported to any shells opened from the current shell, called *environment variables*."
   ]
  },
  {
   "cell_type": "markdown",
   "id": "59353d4d",
   "metadata": {},
   "source": [
    "*Note:* Similarly, defined functions may be exported to any shells opened from the current shell, discussed later."
   ]
  },
  {
   "cell_type": "markdown",
   "id": "130cd3c3",
   "metadata": {},
   "source": [
    "#### Scripts"
   ]
  },
  {
   "cell_type": "markdown",
   "id": "606cf4d7",
   "metadata": {},
   "source": [
    "A *script* is a file that lists a series of commands, line by line, to be executed.\n",
    "\n",
    "Different script files are executed, by default, at different stages.\n",
    "\n",
    "| *Path* | *Description* |\n",
    "| :-- | :-- |\n",
    "| `/etc/profile` | Executed for every new login shell, for all users.\n",
    "| `~/.bash_profile` | Executed for every new login shell, for the corresponding user.\n",
    "| `~/.bash_logout` | Executed for every exit from a login shell, for the corresponding user.\n",
    "| ㅤ |\n",
    "| `/etc/bashrc` | Executed for every new shell, for all users.\n",
    "| `~/.bashrc` | Executed for every new shell, for the corresponding user."
   ]
  },
  {
   "cell_type": "markdown",
   "id": "89f5a58e",
   "metadata": {},
   "source": [
    "*Note:* A *login shell* is a shell that prompts a user for login."
   ]
  },
  {
   "cell_type": "markdown",
   "id": "46c41389",
   "metadata": {},
   "source": [
    "#### *Redirection*"
   ]
  },
  {
   "cell_type": "markdown",
   "id": "f1fe8326",
   "metadata": {},
   "source": [
    "Every executing command has a standard output *(stdout)*, input *(stdin)* and error *(stderr)* associated with. By default, *stdin* is the keyboard, and *stdout(-err)* is the screen.\n",
    "\n",
    "The shell allows for the *redirection* of the *stdout*, *stdin* and *stderr*, allowing, for example, *stdout* of one command to be the *stdin* of another.\n",
    "\n",
    "| *Syntax* | *Description* |\n",
    "| :-- | :-- |\n",
    "| `cmd1 \\| cmd2` | Redirects *stdout* of `cmd1` to *stdin* of `cmd2`. |\n",
    "| ㅤ |\n",
    "| `cmd < file` | Redirects the contents of `file` to *stdin* of `cmd`. |\n",
    "| ㅤ |\n",
    "| `cmd > file` | Redirects the *stdout* of `cmd` to `file`. If it exists, file is overwritten.\n",
    "| `cmd >> file` | Redirects the *stdout* of `cmd` to `file`. If it exists, file is appended to.\n",
    "| ㅤ |\n",
    "| `cmd 2> file` | Redirects the *stderr* of `cmd` to `file`. If it exists, file is overwritten.\n",
    "| `cmd &> file` | Redirects the *stdout* and *stderr* of `cmd` to `file`. If it exists, file is overwritten."
   ]
  },
  {
   "cell_type": "markdown",
   "id": "e602de44",
   "metadata": {},
   "source": [
    "#### *Expansion*"
   ]
  },
  {
   "cell_type": "markdown",
   "id": "1672b75a",
   "metadata": {},
   "source": [
    "Before a command line is interpreted for execution, the shell performs different types of *expansions*."
   ]
  },
  {
   "cell_type": "markdown",
   "id": "5b822b3b",
   "metadata": {},
   "source": [
    "| *Text* | *Expansion* |\n",
    "| :-- | :-- |\n",
    "| `$PATH` | The contents of the variable (e.g: `\\bin:\\usr\\bin`). |\n",
    "| `$(echo some text)` | The output of the command (e.g: `some text`). |\n",
    "| `$[2020 - 1957]` | The result of the arithmetic expression (e.g: `63`). |\n",
    "| ㅤ |\n",
    "| `~` | The path of the home directory of the current user.\n",
    "| `*.txt` | All files, within the current working directory, with a `.txt` extension.\n",
    "| `{1,2,3}.txt` | Expands into `1.txt 2.txt 3.txt`."
   ]
  },
  {
   "cell_type": "markdown",
   "id": "568962bd",
   "metadata": {},
   "source": [
    "*Note:* Similar to `*`, `?` matches any character, and `[...]` matches a range of characters (e.g: `[a-zA-Z0-9]`, `[abc123]`). \n",
    "\n",
    "*Note:* `{1,2,3}` is synonymous with `{1..3}`, and `{a,b,c}` is synonymous with `{a..c}`.\n",
    "\n",
    "*Note:* Expansions occur in the following order: brace expansion, tilde expansion, variable expansion, command substitution, arithmetic expansion, and filename expansion."
   ]
  },
  {
   "cell_type": "markdown",
   "id": "5db4dca5",
   "metadata": {},
   "source": [
    "### Scripting"
   ]
  },
  {
   "cell_type": "markdown",
   "id": "7aa8ed5a",
   "metadata": {},
   "source": [
    "#### Working with Variables"
   ]
  },
  {
   "cell_type": "code",
   "execution_count": null,
   "id": "a2fd340b",
   "metadata": {},
   "outputs": [],
   "source": []
  }
 ],
 "metadata": {
  "kernelspec": {
   "display_name": "Python 3 (ipykernel)",
   "language": "python",
   "name": "python3"
  },
  "language_info": {
   "codemirror_mode": {
    "name": "ipython",
    "version": 3
   },
   "file_extension": ".py",
   "mimetype": "text/x-python",
   "name": "python",
   "nbconvert_exporter": "python",
   "pygments_lexer": "ipython3",
   "version": "3.8.10"
  }
 },
 "nbformat": 4,
 "nbformat_minor": 5
}
